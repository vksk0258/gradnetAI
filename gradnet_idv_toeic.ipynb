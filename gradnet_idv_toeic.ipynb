{
 "cells": [
  {
   "cell_type": "code",
   "execution_count": 1,
   "metadata": {},
   "outputs": [
    {
     "output_type": "execute_result",
     "data": {
      "text/plain": [
       "'2.4.3'"
      ]
     },
     "metadata": {},
     "execution_count": 1
    }
   ],
   "source": [
    "import keras as keras\n",
    "keras.__version__"
   ]
  },
  {
   "cell_type": "code",
   "execution_count": 2,
   "metadata": {},
   "outputs": [
    {
     "output_type": "execute_result",
     "data": {
      "text/plain": [
       "'2.4.1'"
      ]
     },
     "metadata": {},
     "execution_count": 2
    }
   ],
   "source": [
    "import tensorflow as tf\n",
    "tf.__version__"
   ]
  },
  {
   "cell_type": "code",
   "execution_count": 3,
   "metadata": {},
   "outputs": [],
   "source": [
    "import numpy as np\n",
    "import pandas as pd\n",
    "%matplotlib inline\n",
    "import matplotlib.pyplot as plt\n",
    "import urllib.request\n",
    "from tensorflow.keras.preprocessing.text import Tokenizer\n",
    "from tensorflow.keras.preprocessing.sequence import pad_sequences"
   ]
  },
  {
   "cell_type": "markdown",
   "metadata": {},
   "source": [
    "## 데이터 불러오기 및 분석"
   ]
  },
  {
   "cell_type": "code",
   "execution_count": 4,
   "metadata": {},
   "outputs": [
    {
     "output_type": "stream",
     "name": "stdout",
     "text": [
      "전체 학습 데이터의 수 : 13578\n"
     ]
    }
   ],
   "source": [
    "train_data = pd.read_excel(\"gradnet_train_v2.xlsx\")\n",
    "print('전체 학습 데이터의 수 :',(len(train_data)))"
   ]
  },
  {
   "cell_type": "code",
   "execution_count": 5,
   "metadata": {},
   "outputs": [
    {
     "output_type": "execute_result",
     "data": {
      "text/plain": [
       "id           0\n",
       "file_name    0\n",
       "text         4\n",
       "label        0\n",
       "dtype: int64"
      ]
     },
     "metadata": {},
     "execution_count": 5
    }
   ],
   "source": [
    "#결측치 확인\n",
    "train_data.isnull().sum()"
   ]
  },
  {
   "cell_type": "code",
   "execution_count": 6,
   "metadata": {},
   "outputs": [],
   "source": [
    "#결측치 삭제\n",
    "train_data = train_data.dropna()"
   ]
  },
  {
   "cell_type": "code",
   "execution_count": 7,
   "metadata": {},
   "outputs": [
    {
     "output_type": "execute_result",
     "data": {
      "text/plain": [
       "     id   file_name                                               text label\n",
       "0  6205         399  ÉTS TOEFL IBT.\\nTest Taker Score Report\\nETS S...   IBT\n",
       "1  6203        3926  ETS)\\nTOEFL İBT.\\nTest Taker Score Report\\nNam...   IBT\n",
       "2  6110        2062  ETS TOEFL iBT.\\nTest Taker Score Report\\nName:...   IBT\n",
       "3  6045  2020321275  ETS TOEFL iBT.\\nTest Taker Score Report\\nName:...   IBT\n",
       "4  6255         600  ETS TOEFL iBT.\\nTest Taker Score Report\\nName:...   IBT"
      ],
      "text/html": "<div>\n<style scoped>\n    .dataframe tbody tr th:only-of-type {\n        vertical-align: middle;\n    }\n\n    .dataframe tbody tr th {\n        vertical-align: top;\n    }\n\n    .dataframe thead th {\n        text-align: right;\n    }\n</style>\n<table border=\"1\" class=\"dataframe\">\n  <thead>\n    <tr style=\"text-align: right;\">\n      <th></th>\n      <th>id</th>\n      <th>file_name</th>\n      <th>text</th>\n      <th>label</th>\n    </tr>\n  </thead>\n  <tbody>\n    <tr>\n      <th>0</th>\n      <td>6205</td>\n      <td>399</td>\n      <td>ÉTS TOEFL IBT.\\nTest Taker Score Report\\nETS S...</td>\n      <td>IBT</td>\n    </tr>\n    <tr>\n      <th>1</th>\n      <td>6203</td>\n      <td>3926</td>\n      <td>ETS)\\nTOEFL İBT.\\nTest Taker Score Report\\nNam...</td>\n      <td>IBT</td>\n    </tr>\n    <tr>\n      <th>2</th>\n      <td>6110</td>\n      <td>2062</td>\n      <td>ETS TOEFL iBT.\\nTest Taker Score Report\\nName:...</td>\n      <td>IBT</td>\n    </tr>\n    <tr>\n      <th>3</th>\n      <td>6045</td>\n      <td>2020321275</td>\n      <td>ETS TOEFL iBT.\\nTest Taker Score Report\\nName:...</td>\n      <td>IBT</td>\n    </tr>\n    <tr>\n      <th>4</th>\n      <td>6255</td>\n      <td>600</td>\n      <td>ETS TOEFL iBT.\\nTest Taker Score Report\\nName:...</td>\n      <td>IBT</td>\n    </tr>\n  </tbody>\n</table>\n</div>"
     },
     "metadata": {},
     "execution_count": 7
    }
   ],
   "source": [
    "train_data.head()"
   ]
  },
  {
   "cell_type": "code",
   "execution_count": 8,
   "metadata": {},
   "outputs": [
    {
     "output_type": "execute_result",
     "data": {
      "text/plain": [
       "성적증명서    4886\n",
       "졸업증명서    4654\n",
       "TOEIC    2286\n",
       "TEPS      487\n",
       "TOPIK     362\n",
       "IBT       335\n",
       "IELTS     194\n",
       "PBT       170\n",
       "기타        151\n",
       "졸업+성적      49\n",
       "Name: label, dtype: int64"
      ]
     },
     "metadata": {},
     "execution_count": 8
    }
   ],
   "source": [
    "# 시험명(label) 종류와 개수 확인\n",
    "train_data['label'].value_counts()"
   ]
  },
  {
   "cell_type": "code",
   "execution_count": 9,
   "metadata": {},
   "outputs": [],
   "source": [
    "#label 열 복사\n",
    "train_data['label2'] = train_data['label']"
   ]
  },
  {
   "cell_type": "code",
   "execution_count": 10,
   "metadata": {},
   "outputs": [
    {
     "output_type": "execute_result",
     "data": {
      "text/plain": [
       "         id                                       file_name  \\\n",
       "0      6205                                             399   \n",
       "1      6203                                            3926   \n",
       "2      6110                                            2062   \n",
       "3      6045                                      2020321275   \n",
       "4      6255                                             600   \n",
       "...     ...                                             ...   \n",
       "13573  1146               부산대학교_1A1OA01002_0_U_대학 졸업(예정)증명서   \n",
       "13574  4247               연세대학교_1A1AG01003_0_U_대학 졸업(예정)증명서   \n",
       "13575  1236               서울대학교_1A1JA01266_0_U_대학 졸업(예정)증명서   \n",
       "13576   248  Ningbo Polytechnic_1C1JA01002_1_U_대학 졸업(예정)증명서   \n",
       "13577  3110              경희대학교_1A1EB02010_1_G_대학원 졸업(예정)증명서   \n",
       "\n",
       "                                                    text  label label2  \n",
       "0      ÉTS TOEFL IBT.\\nTest Taker Score Report\\nETS S...    IBT    IBT  \n",
       "1      ETS)\\nTOEFL İBT.\\nTest Taker Score Report\\nNam...    IBT    IBT  \n",
       "2      ETS TOEFL iBT.\\nTest Taker Score Report\\nName:...    IBT    IBT  \n",
       "3      ETS TOEFL iBT.\\nTest Taker Score Report\\nName:...    IBT    IBT  \n",
       "4      ETS TOEFL iBT.\\nTest Taker Score Report\\nName:...    IBT    IBT  \n",
       "...                                                  ...    ...    ...  \n",
       "13573  제 N2020123316 호\\n졸업증명 서\\n성\\n명\\n김상온\\n생 년월 일\\n19...  졸업증명서  졸업증명서  \n",
       "13574  4 Docu. Verification No. : XD6A-4C8D-C36E-41A2...  졸업증명서  졸업증명서  \n",
       "13575  [ 원본대조번호 : 07A1-5D18-0719-2159 ]\\n제 0272059 호\\...  졸업증명서  졸업증명서  \n",
       "13576  公 证 书\\n中华人民共和国吉林省安图县公证处\\n普通高等学校\\n毕业证书\\n学生 韩情情\\...  졸업증명서  졸업증명서  \n",
       "13577  제 2020-0374545 호\\n학위수여증명서\\n성\\n명\\n최종현\\n생 년 월 일\\...  졸업증명서  졸업증명서  \n",
       "\n",
       "[13574 rows x 5 columns]"
      ],
      "text/html": "<div>\n<style scoped>\n    .dataframe tbody tr th:only-of-type {\n        vertical-align: middle;\n    }\n\n    .dataframe tbody tr th {\n        vertical-align: top;\n    }\n\n    .dataframe thead th {\n        text-align: right;\n    }\n</style>\n<table border=\"1\" class=\"dataframe\">\n  <thead>\n    <tr style=\"text-align: right;\">\n      <th></th>\n      <th>id</th>\n      <th>file_name</th>\n      <th>text</th>\n      <th>label</th>\n      <th>label2</th>\n    </tr>\n  </thead>\n  <tbody>\n    <tr>\n      <th>0</th>\n      <td>6205</td>\n      <td>399</td>\n      <td>ÉTS TOEFL IBT.\\nTest Taker Score Report\\nETS S...</td>\n      <td>IBT</td>\n      <td>IBT</td>\n    </tr>\n    <tr>\n      <th>1</th>\n      <td>6203</td>\n      <td>3926</td>\n      <td>ETS)\\nTOEFL İBT.\\nTest Taker Score Report\\nNam...</td>\n      <td>IBT</td>\n      <td>IBT</td>\n    </tr>\n    <tr>\n      <th>2</th>\n      <td>6110</td>\n      <td>2062</td>\n      <td>ETS TOEFL iBT.\\nTest Taker Score Report\\nName:...</td>\n      <td>IBT</td>\n      <td>IBT</td>\n    </tr>\n    <tr>\n      <th>3</th>\n      <td>6045</td>\n      <td>2020321275</td>\n      <td>ETS TOEFL iBT.\\nTest Taker Score Report\\nName:...</td>\n      <td>IBT</td>\n      <td>IBT</td>\n    </tr>\n    <tr>\n      <th>4</th>\n      <td>6255</td>\n      <td>600</td>\n      <td>ETS TOEFL iBT.\\nTest Taker Score Report\\nName:...</td>\n      <td>IBT</td>\n      <td>IBT</td>\n    </tr>\n    <tr>\n      <th>...</th>\n      <td>...</td>\n      <td>...</td>\n      <td>...</td>\n      <td>...</td>\n      <td>...</td>\n    </tr>\n    <tr>\n      <th>13573</th>\n      <td>1146</td>\n      <td>부산대학교_1A1OA01002_0_U_대학 졸업(예정)증명서</td>\n      <td>제 N2020123316 호\\n졸업증명 서\\n성\\n명\\n김상온\\n생 년월 일\\n19...</td>\n      <td>졸업증명서</td>\n      <td>졸업증명서</td>\n    </tr>\n    <tr>\n      <th>13574</th>\n      <td>4247</td>\n      <td>연세대학교_1A1AG01003_0_U_대학 졸업(예정)증명서</td>\n      <td>4 Docu. Verification No. : XD6A-4C8D-C36E-41A2...</td>\n      <td>졸업증명서</td>\n      <td>졸업증명서</td>\n    </tr>\n    <tr>\n      <th>13575</th>\n      <td>1236</td>\n      <td>서울대학교_1A1JA01266_0_U_대학 졸업(예정)증명서</td>\n      <td>[ 원본대조번호 : 07A1-5D18-0719-2159 ]\\n제 0272059 호\\...</td>\n      <td>졸업증명서</td>\n      <td>졸업증명서</td>\n    </tr>\n    <tr>\n      <th>13576</th>\n      <td>248</td>\n      <td>Ningbo Polytechnic_1C1JA01002_1_U_대학 졸업(예정)증명서</td>\n      <td>公 证 书\\n中华人民共和国吉林省安图县公证处\\n普通高等学校\\n毕业证书\\n学生 韩情情\\...</td>\n      <td>졸업증명서</td>\n      <td>졸업증명서</td>\n    </tr>\n    <tr>\n      <th>13577</th>\n      <td>3110</td>\n      <td>경희대학교_1A1EB02010_1_G_대학원 졸업(예정)증명서</td>\n      <td>제 2020-0374545 호\\n학위수여증명서\\n성\\n명\\n최종현\\n생 년 월 일\\...</td>\n      <td>졸업증명서</td>\n      <td>졸업증명서</td>\n    </tr>\n  </tbody>\n</table>\n<p>13574 rows × 5 columns</p>\n</div>"
     },
     "metadata": {},
     "execution_count": 10
    }
   ],
   "source": [
    "train_data"
   ]
  },
  {
   "cell_type": "code",
   "execution_count": 11,
   "metadata": {},
   "outputs": [
    {
     "output_type": "execute_result",
     "data": {
      "text/plain": [
       "         id                                       file_name  \\\n",
       "0      6205                                             399   \n",
       "1      6203                                            3926   \n",
       "2      6110                                            2062   \n",
       "3      6045                                      2020321275   \n",
       "4      6255                                             600   \n",
       "...     ...                                             ...   \n",
       "13573  1146               부산대학교_1A1OA01002_0_U_대학 졸업(예정)증명서   \n",
       "13574  4247               연세대학교_1A1AG01003_0_U_대학 졸업(예정)증명서   \n",
       "13575  1236               서울대학교_1A1JA01266_0_U_대학 졸업(예정)증명서   \n",
       "13576   248  Ningbo Polytechnic_1C1JA01002_1_U_대학 졸업(예정)증명서   \n",
       "13577  3110              경희대학교_1A1EB02010_1_G_대학원 졸업(예정)증명서   \n",
       "\n",
       "                                                    text label label2  \n",
       "0      ÉTS TOEFL IBT.\\nTest Taker Score Report\\nETS S...     1    IBT  \n",
       "1      ETS)\\nTOEFL İBT.\\nTest Taker Score Report\\nNam...     1    IBT  \n",
       "2      ETS TOEFL iBT.\\nTest Taker Score Report\\nName:...     1    IBT  \n",
       "3      ETS TOEFL iBT.\\nTest Taker Score Report\\nName:...     1    IBT  \n",
       "4      ETS TOEFL iBT.\\nTest Taker Score Report\\nName:...     1    IBT  \n",
       "...                                                  ...   ...    ...  \n",
       "13573  제 N2020123316 호\\n졸업증명 서\\n성\\n명\\n김상온\\n생 년월 일\\n19...     1  졸업증명서  \n",
       "13574  4 Docu. Verification No. : XD6A-4C8D-C36E-41A2...     1  졸업증명서  \n",
       "13575  [ 원본대조번호 : 07A1-5D18-0719-2159 ]\\n제 0272059 호\\...     1  졸업증명서  \n",
       "13576  公 证 书\\n中华人民共和国吉林省安图县公证处\\n普通高等学校\\n毕业证书\\n学生 韩情情\\...     1  졸업증명서  \n",
       "13577  제 2020-0374545 호\\n학위수여증명서\\n성\\n명\\n최종현\\n생 년 월 일\\...     1  졸업증명서  \n",
       "\n",
       "[13574 rows x 5 columns]"
      ],
      "text/html": "<div>\n<style scoped>\n    .dataframe tbody tr th:only-of-type {\n        vertical-align: middle;\n    }\n\n    .dataframe tbody tr th {\n        vertical-align: top;\n    }\n\n    .dataframe thead th {\n        text-align: right;\n    }\n</style>\n<table border=\"1\" class=\"dataframe\">\n  <thead>\n    <tr style=\"text-align: right;\">\n      <th></th>\n      <th>id</th>\n      <th>file_name</th>\n      <th>text</th>\n      <th>label</th>\n      <th>label2</th>\n    </tr>\n  </thead>\n  <tbody>\n    <tr>\n      <th>0</th>\n      <td>6205</td>\n      <td>399</td>\n      <td>ÉTS TOEFL IBT.\\nTest Taker Score Report\\nETS S...</td>\n      <td>1</td>\n      <td>IBT</td>\n    </tr>\n    <tr>\n      <th>1</th>\n      <td>6203</td>\n      <td>3926</td>\n      <td>ETS)\\nTOEFL İBT.\\nTest Taker Score Report\\nNam...</td>\n      <td>1</td>\n      <td>IBT</td>\n    </tr>\n    <tr>\n      <th>2</th>\n      <td>6110</td>\n      <td>2062</td>\n      <td>ETS TOEFL iBT.\\nTest Taker Score Report\\nName:...</td>\n      <td>1</td>\n      <td>IBT</td>\n    </tr>\n    <tr>\n      <th>3</th>\n      <td>6045</td>\n      <td>2020321275</td>\n      <td>ETS TOEFL iBT.\\nTest Taker Score Report\\nName:...</td>\n      <td>1</td>\n      <td>IBT</td>\n    </tr>\n    <tr>\n      <th>4</th>\n      <td>6255</td>\n      <td>600</td>\n      <td>ETS TOEFL iBT.\\nTest Taker Score Report\\nName:...</td>\n      <td>1</td>\n      <td>IBT</td>\n    </tr>\n    <tr>\n      <th>...</th>\n      <td>...</td>\n      <td>...</td>\n      <td>...</td>\n      <td>...</td>\n      <td>...</td>\n    </tr>\n    <tr>\n      <th>13573</th>\n      <td>1146</td>\n      <td>부산대학교_1A1OA01002_0_U_대학 졸업(예정)증명서</td>\n      <td>제 N2020123316 호\\n졸업증명 서\\n성\\n명\\n김상온\\n생 년월 일\\n19...</td>\n      <td>1</td>\n      <td>졸업증명서</td>\n    </tr>\n    <tr>\n      <th>13574</th>\n      <td>4247</td>\n      <td>연세대학교_1A1AG01003_0_U_대학 졸업(예정)증명서</td>\n      <td>4 Docu. Verification No. : XD6A-4C8D-C36E-41A2...</td>\n      <td>1</td>\n      <td>졸업증명서</td>\n    </tr>\n    <tr>\n      <th>13575</th>\n      <td>1236</td>\n      <td>서울대학교_1A1JA01266_0_U_대학 졸업(예정)증명서</td>\n      <td>[ 원본대조번호 : 07A1-5D18-0719-2159 ]\\n제 0272059 호\\...</td>\n      <td>1</td>\n      <td>졸업증명서</td>\n    </tr>\n    <tr>\n      <th>13576</th>\n      <td>248</td>\n      <td>Ningbo Polytechnic_1C1JA01002_1_U_대학 졸업(예정)증명서</td>\n      <td>公 证 书\\n中华人民共和国吉林省安图县公证处\\n普通高等学校\\n毕业证书\\n学生 韩情情\\...</td>\n      <td>1</td>\n      <td>졸업증명서</td>\n    </tr>\n    <tr>\n      <th>13577</th>\n      <td>3110</td>\n      <td>경희대학교_1A1EB02010_1_G_대학원 졸업(예정)증명서</td>\n      <td>제 2020-0374545 호\\n학위수여증명서\\n성\\n명\\n최종현\\n생 년 월 일\\...</td>\n      <td>1</td>\n      <td>졸업증명서</td>\n    </tr>\n  </tbody>\n</table>\n<p>13574 rows × 5 columns</p>\n</div>"
     },
     "metadata": {},
     "execution_count": 11
    }
   ],
   "source": [
    "train_data['label'] = train_data['label'].replace('TOEIC', '0')\n",
    "train_data['label'] = train_data['label'].replace('IBT', '1')\n",
    "train_data['label'] = train_data['label'].replace('TEPS', '1')\n",
    "train_data['label'] = train_data['label'].replace('IELTS', '1')\n",
    "train_data['label'] = train_data['label'].replace('TOPIK', '1')\n",
    "train_data['label'] = train_data['label'].replace('PBT', '1')\n",
    "train_data['label'] = train_data['label'].replace('졸업증명서', '1')\n",
    "train_data['label'] = train_data['label'].replace('성적증명서', '1')\n",
    "train_data['label'] = train_data['label'].replace('졸업+성적', '1')\n",
    "train_data['label'] = train_data['label'].replace('기타', '1')\n",
    "train_data"
   ]
  },
  {
   "cell_type": "code",
   "execution_count": 12,
   "metadata": {},
   "outputs": [
    {
     "output_type": "execute_result",
     "data": {
      "text/plain": [
       "1    11288\n",
       "0     2286\n",
       "Name: label, dtype: int64"
      ]
     },
     "metadata": {},
     "execution_count": 12
    }
   ],
   "source": [
    "train_data['label'].value_counts()"
   ]
  },
  {
   "cell_type": "code",
   "execution_count": null,
   "metadata": {},
   "outputs": [],
   "source": []
  },
  {
   "cell_type": "markdown",
   "metadata": {},
   "source": [
    "## 데이터 전처리"
   ]
  },
  {
   "cell_type": "code",
   "execution_count": 13,
   "metadata": {},
   "outputs": [],
   "source": [
    "import re\n",
    "import json\n",
    "import pandas as pd\n",
    "import numpy as np\n",
    "from bs4 import BeautifulSoup\n",
    "from nltk.corpus import stopwords\n",
    "from tensorflow.python.keras.preprocessing.sequence import pad_sequences\n",
    "from tensorflow.python.keras.preprocessing.text import Tokenizer"
   ]
  },
  {
   "cell_type": "code",
   "execution_count": 14,
   "metadata": {},
   "outputs": [],
   "source": [
    "def preprocessing(text, remove_stopwords = False ): \n",
    "    # 불용어 제거는 옵션으로 선택 가능하다.\n",
    "    \n",
    "\n",
    "    # 2. 영어가 아닌 특수문자들을 공백(\" \")으로 바꾸기\n",
    "    text = re.sub(\"[^ ㄱ-ㅣ가-힣A-Za-z0-9]\", \" \",text)\n",
    "\n",
    "    # 3. 대문자들을 소문자로 바꾸고 공백단위로 텍스트들 나눠서 리스트로 만든다.\n",
    "    words = text.lower().split()\n",
    "\n",
    "    if remove_stopwords: \n",
    "        # 4. 불용어들을 제거\n",
    "    \n",
    "        #영어에 관련된 불용어 불러오기\n",
    "        stops = set(stopwords.words(\"english\"))\n",
    "        # 불용어가 아닌 단어들로 이루어진 새로운 리스트 생성\n",
    "        words = [w for w in words if not w in stops]\n",
    "        # 5. 단어 리스트를 공백을 넣어서 하나의 글로 합친다.\t\n",
    "        clean_review = ' '.join(words)\n",
    "\n",
    "    else: # 불용어 제거하지 않을 때\n",
    "        clean_review = ' '.join(words)\n",
    "\n",
    "    return clean_review"
   ]
  },
  {
   "cell_type": "code",
   "execution_count": 15,
   "metadata": {},
   "outputs": [
    {
     "output_type": "execute_result",
     "data": {
      "text/plain": [
       "         id                                       file_name  \\\n",
       "0      6205                                             399   \n",
       "1      6203                                            3926   \n",
       "2      6110                                            2062   \n",
       "3      6045                                      2020321275   \n",
       "4      6255                                             600   \n",
       "...     ...                                             ...   \n",
       "13573  1146               부산대학교_1A1OA01002_0_U_대학 졸업(예정)증명서   \n",
       "13574  4247               연세대학교_1A1AG01003_0_U_대학 졸업(예정)증명서   \n",
       "13575  1236               서울대학교_1A1JA01266_0_U_대학 졸업(예정)증명서   \n",
       "13576   248  Ningbo Polytechnic_1C1JA01002_1_U_대학 졸업(예정)증명서   \n",
       "13577  3110              경희대학교_1A1EB02010_1_G_대학원 졸업(예정)증명서   \n",
       "\n",
       "                                                    text label label2  \n",
       "0      ÉTS TOEFL IBT.\\nTest Taker Score Report\\nETS S...     1    IBT  \n",
       "1      ETS)\\nTOEFL İBT.\\nTest Taker Score Report\\nNam...     1    IBT  \n",
       "2      ETS TOEFL iBT.\\nTest Taker Score Report\\nName:...     1    IBT  \n",
       "3      ETS TOEFL iBT.\\nTest Taker Score Report\\nName:...     1    IBT  \n",
       "4      ETS TOEFL iBT.\\nTest Taker Score Report\\nName:...     1    IBT  \n",
       "...                                                  ...   ...    ...  \n",
       "13573  제 N2020123316 호\\n졸업증명 서\\n성\\n명\\n김상온\\n생 년월 일\\n19...     1  졸업증명서  \n",
       "13574  4 Docu. Verification No. : XD6A-4C8D-C36E-41A2...     1  졸업증명서  \n",
       "13575  [ 원본대조번호 : 07A1-5D18-0719-2159 ]\\n제 0272059 호\\...     1  졸업증명서  \n",
       "13576  公 证 书\\n中华人民共和国吉林省安图县公证处\\n普通高等学校\\n毕业证书\\n学生 韩情情\\...     1  졸업증명서  \n",
       "13577  제 2020-0374545 호\\n학위수여증명서\\n성\\n명\\n최종현\\n생 년 월 일\\...     1  졸업증명서  \n",
       "\n",
       "[13574 rows x 5 columns]"
      ],
      "text/html": "<div>\n<style scoped>\n    .dataframe tbody tr th:only-of-type {\n        vertical-align: middle;\n    }\n\n    .dataframe tbody tr th {\n        vertical-align: top;\n    }\n\n    .dataframe thead th {\n        text-align: right;\n    }\n</style>\n<table border=\"1\" class=\"dataframe\">\n  <thead>\n    <tr style=\"text-align: right;\">\n      <th></th>\n      <th>id</th>\n      <th>file_name</th>\n      <th>text</th>\n      <th>label</th>\n      <th>label2</th>\n    </tr>\n  </thead>\n  <tbody>\n    <tr>\n      <th>0</th>\n      <td>6205</td>\n      <td>399</td>\n      <td>ÉTS TOEFL IBT.\\nTest Taker Score Report\\nETS S...</td>\n      <td>1</td>\n      <td>IBT</td>\n    </tr>\n    <tr>\n      <th>1</th>\n      <td>6203</td>\n      <td>3926</td>\n      <td>ETS)\\nTOEFL İBT.\\nTest Taker Score Report\\nNam...</td>\n      <td>1</td>\n      <td>IBT</td>\n    </tr>\n    <tr>\n      <th>2</th>\n      <td>6110</td>\n      <td>2062</td>\n      <td>ETS TOEFL iBT.\\nTest Taker Score Report\\nName:...</td>\n      <td>1</td>\n      <td>IBT</td>\n    </tr>\n    <tr>\n      <th>3</th>\n      <td>6045</td>\n      <td>2020321275</td>\n      <td>ETS TOEFL iBT.\\nTest Taker Score Report\\nName:...</td>\n      <td>1</td>\n      <td>IBT</td>\n    </tr>\n    <tr>\n      <th>4</th>\n      <td>6255</td>\n      <td>600</td>\n      <td>ETS TOEFL iBT.\\nTest Taker Score Report\\nName:...</td>\n      <td>1</td>\n      <td>IBT</td>\n    </tr>\n    <tr>\n      <th>...</th>\n      <td>...</td>\n      <td>...</td>\n      <td>...</td>\n      <td>...</td>\n      <td>...</td>\n    </tr>\n    <tr>\n      <th>13573</th>\n      <td>1146</td>\n      <td>부산대학교_1A1OA01002_0_U_대학 졸업(예정)증명서</td>\n      <td>제 N2020123316 호\\n졸업증명 서\\n성\\n명\\n김상온\\n생 년월 일\\n19...</td>\n      <td>1</td>\n      <td>졸업증명서</td>\n    </tr>\n    <tr>\n      <th>13574</th>\n      <td>4247</td>\n      <td>연세대학교_1A1AG01003_0_U_대학 졸업(예정)증명서</td>\n      <td>4 Docu. Verification No. : XD6A-4C8D-C36E-41A2...</td>\n      <td>1</td>\n      <td>졸업증명서</td>\n    </tr>\n    <tr>\n      <th>13575</th>\n      <td>1236</td>\n      <td>서울대학교_1A1JA01266_0_U_대학 졸업(예정)증명서</td>\n      <td>[ 원본대조번호 : 07A1-5D18-0719-2159 ]\\n제 0272059 호\\...</td>\n      <td>1</td>\n      <td>졸업증명서</td>\n    </tr>\n    <tr>\n      <th>13576</th>\n      <td>248</td>\n      <td>Ningbo Polytechnic_1C1JA01002_1_U_대학 졸업(예정)증명서</td>\n      <td>公 证 书\\n中华人民共和国吉林省安图县公证处\\n普通高等学校\\n毕业证书\\n学生 韩情情\\...</td>\n      <td>1</td>\n      <td>졸업증명서</td>\n    </tr>\n    <tr>\n      <th>13577</th>\n      <td>3110</td>\n      <td>경희대학교_1A1EB02010_1_G_대학원 졸업(예정)증명서</td>\n      <td>제 2020-0374545 호\\n학위수여증명서\\n성\\n명\\n최종현\\n생 년 월 일\\...</td>\n      <td>1</td>\n      <td>졸업증명서</td>\n    </tr>\n  </tbody>\n</table>\n<p>13574 rows × 5 columns</p>\n</div>"
     },
     "metadata": {},
     "execution_count": 15
    }
   ],
   "source": [
    "train_data"
   ]
  },
  {
   "cell_type": "code",
   "execution_count": 16,
   "metadata": {},
   "outputs": [],
   "source": [
    "# 전체 학습데이터 전처리\n",
    "clean_train_texts = []\n",
    "for text in train_data['text']:\n",
    "    clean_train_texts.append(preprocessing(text, remove_stopwords = True))"
   ]
  },
  {
   "cell_type": "code",
   "execution_count": 17,
   "metadata": {},
   "outputs": [
    {
     "output_type": "execute_result",
     "data": {
      "text/plain": [
       "'ets toefl ibt test taker score report name jeong moon kyung last family surname name first given name middle name email cutemoon94 gmail com gender u appointment number 4512 9081 9072 1138 date birth september 30 1994 test date august 24 2019 jeong moon kyung 53 8 daehyun dong queens house room 401 seodaemun gu seoul korea republic inst code dept code country birth korea republic native language korean test center stn13681d kaec test center country korea republic security identification id type passport id xxxxxxxxxxxxxxxxxxxxx3935 issuing country korea repub pdf score report downloaded printed test taker august 24 2019 test date scores mybesttm scores highest section scores valid test dates august 30 2019 sum highest total score reading reading 28 section scores 28 30 test date 30 aug 24 2019 108 108 listening test date 120 listening 30 120 30 30 aug 24 2019 120 speaking speaking 25 test date 25 30 30 aug 24 2019 writing 25 25 aug 24 2019 writing 30 test date 30 total score reported one sections administered expired scores included mybesttm calculations 24 24 copyright 2019 educational testing service rights reserved ets ets logo toefl toefl bt registered trademarks educational testing service ets united states countries mybest trademark ets 30 ets toefl ibt test taker score report pdf score report downloaded printed test taker jeong moon kyung date birth september 30 1994 appointment number 4512 9081 9072 1138 test date august 24 2019 score ranges institution codes institutions department code numbers shown front page ones selected took test total score 0 120 reading 0 30 advanced 24 30 dept report sent high intermediate 18 23 00 admissions office undergraduate study low intermediate 4 17 01 04 41 43 98 admissions office graduate study field management business law according codes selected registered low intermediate 0 3 listening 0 30 02 admissions office graduate school management business advanced 22 30 03 admissions office graduate school law high intermediate 17 21 low intermediate 9 16 42 admissions office school medicine nursing licensing agency low intermediate 0 8 99 institution agency college university speaking 0 30 advanced 25 30 high intermediate 20 24 low intermediate 16 19 basic 10 15 basic 0 9 writing 0 30 advanced 24 30 high intermediate 17 23 low intermediate 13 16 basic 7 12 basic 0 6 additional information toefl bt scores score ranges improve skills visit www ets org toefl ibt scores important note score users pdf score report downloaded printed test taker therefore ets cannot guarantee altered verify scores report please contact toefl score verification service 1 800 257 9547 1 609 771 7100 scores two years old cannot reported validated copyright 2019 educational testing service rights reserved ets ets logo toefl toefl bt registered trademarks educational testing service ets united states countries mybest trademark ets'"
      ]
     },
     "metadata": {},
     "execution_count": 17
    }
   ],
   "source": [
    "# 전처리한 데이터 출력\n",
    "clean_train_texts[112]"
   ]
  },
  {
   "cell_type": "code",
   "execution_count": 18,
   "metadata": {},
   "outputs": [
    {
     "output_type": "execute_result",
     "data": {
      "text/plain": [
       "                                                    text label\n",
       "0      ts toefl ibt test taker score report ets secur...     1\n",
       "1      ets toefl bt test taker score report name moon...     1\n",
       "2      ets toefl ibt test taker score report name bai...     1\n",
       "3      ets toefl ibt test taker score report name jun...     1\n",
       "4      ets toefl ibt test taker score report name par...     1\n",
       "...                                                  ...   ...\n",
       "13573  제 n2020123316 호 졸업증명 서 성 명 김상온 생 년월 일 1985년 10...     1\n",
       "13574  4 docu verification xd6a 4c8d c36e 41a2 2 oniv...     1\n",
       "13575  원본대조번호 07a1 5d18 0719 2159 제 0272059 호 졸 업 증 명...     1\n",
       "13576  0 0 01062044 108631201606000596 ar r e bttp ww...     1\n",
       "13577  제 2020 0374545 호 학위수여증명서 성 명 최종현 생 년 월 일 1987년...     1\n",
       "\n",
       "[13574 rows x 2 columns]"
      ],
      "text/html": "<div>\n<style scoped>\n    .dataframe tbody tr th:only-of-type {\n        vertical-align: middle;\n    }\n\n    .dataframe tbody tr th {\n        vertical-align: top;\n    }\n\n    .dataframe thead th {\n        text-align: right;\n    }\n</style>\n<table border=\"1\" class=\"dataframe\">\n  <thead>\n    <tr style=\"text-align: right;\">\n      <th></th>\n      <th>text</th>\n      <th>label</th>\n    </tr>\n  </thead>\n  <tbody>\n    <tr>\n      <th>0</th>\n      <td>ts toefl ibt test taker score report ets secur...</td>\n      <td>1</td>\n    </tr>\n    <tr>\n      <th>1</th>\n      <td>ets toefl bt test taker score report name moon...</td>\n      <td>1</td>\n    </tr>\n    <tr>\n      <th>2</th>\n      <td>ets toefl ibt test taker score report name bai...</td>\n      <td>1</td>\n    </tr>\n    <tr>\n      <th>3</th>\n      <td>ets toefl ibt test taker score report name jun...</td>\n      <td>1</td>\n    </tr>\n    <tr>\n      <th>4</th>\n      <td>ets toefl ibt test taker score report name par...</td>\n      <td>1</td>\n    </tr>\n    <tr>\n      <th>...</th>\n      <td>...</td>\n      <td>...</td>\n    </tr>\n    <tr>\n      <th>13573</th>\n      <td>제 n2020123316 호 졸업증명 서 성 명 김상온 생 년월 일 1985년 10...</td>\n      <td>1</td>\n    </tr>\n    <tr>\n      <th>13574</th>\n      <td>4 docu verification xd6a 4c8d c36e 41a2 2 oniv...</td>\n      <td>1</td>\n    </tr>\n    <tr>\n      <th>13575</th>\n      <td>원본대조번호 07a1 5d18 0719 2159 제 0272059 호 졸 업 증 명...</td>\n      <td>1</td>\n    </tr>\n    <tr>\n      <th>13576</th>\n      <td>0 0 01062044 108631201606000596 ar r e bttp ww...</td>\n      <td>1</td>\n    </tr>\n    <tr>\n      <th>13577</th>\n      <td>제 2020 0374545 호 학위수여증명서 성 명 최종현 생 년 월 일 1987년...</td>\n      <td>1</td>\n    </tr>\n  </tbody>\n</table>\n<p>13574 rows × 2 columns</p>\n</div>"
     },
     "metadata": {},
     "execution_count": 18
    }
   ],
   "source": [
    "# 전처리한 데이터에서 각 단어를 인덱스로 벡터화 해야함.\n",
    "# 모델에 따라 입력값의 길이가 동일해야 하기 때문에 일정 길이로 자르고 부족한 부분은 특정값으로 채우는 패딩과정을 진행해야 함\n",
    "\n",
    "clean_train_df = pd.DataFrame({'text': clean_train_texts, 'label': train_data['label']})\n",
    "clean_train_df"
   ]
  },
  {
   "cell_type": "code",
   "execution_count": 19,
   "metadata": {},
   "outputs": [],
   "source": [
    "# 토크나이저 모듈을 생성한 후 정제된 데이터에 적용하고 인덱스로 구성된 벡터로 변환\n",
    "tokenizer = Tokenizer()\n",
    "tokenizer.fit_on_texts(clean_train_texts)\n",
    "text_sequences = tokenizer.texts_to_sequences(clean_train_texts)"
   ]
  },
  {
   "cell_type": "code",
   "execution_count": 20,
   "metadata": {},
   "outputs": [
    {
     "output_type": "stream",
     "name": "stdout",
     "text": [
      "[37, 126, 534, 11, 467, 10, 153, 130, 3103, 31993, 1261, 853, 1623, 130, 655, 597, 130, 1484, 130, 1264, 86334, 82, 137, 68, 624, 94, 1426, 218, 39629, 5883, 27403, 31994, 50, 208, 739, 185, 819, 11, 50, 1356, 66, 36, 3103, 31993, 205, 23996, 86335, 306, 10728, 11094, 205, 26, 163, 1439, 465, 1064, 465, 554, 208, 26, 163, 833, 180, 433, 11, 878, 27404, 8021, 9476, 18, 265, 11, 878, 554, 26, 163, 685, 1411, 402, 669, 1754, 402, 3000, 12899, 86336, 1545, 554, 26, 1902, 746, 10, 153, 960, 492, 11, 467, 1356, 66, 36, 11, 50, 187, 1538, 187, 1119, 302, 187, 278, 11, 1871, 1356, 172, 36, 1718, 1119, 86, 234, 1678, 66, 36, 162, 10, 86, 234, 302, 187, 56, 11, 50, 56, 1766, 1766, 109, 11, 50, 539, 539, 109, 56, 56, 56, 56, 1678, 66, 36, 539, 448, 448, 234, 11, 50, 234, 56, 56, 1678, 66, 36, 322, 322, 234, 234, 56, 11, 50, 56, 1678, 66, 36, 162, 10, 367, 308, 1470, 1708, 2051, 187, 1093, 1538, 2019, 80, 80, 1024, 78, 166, 118, 164, 729, 997, 37, 37, 238, 126, 126, 534, 193, 225, 166, 118, 164, 37, 851, 864, 945, 1287, 1162, 37, 504, 5, 3, 37, 126, 1007, 11, 467, 10, 153, 746, 10, 153, 960, 492, 11, 467, 3103, 31993, 50, 208, 739, 185, 819, 1426, 218, 39629, 5883, 27403, 31994, 11, 50, 1356, 66, 36, 10, 1208, 576, 1154, 1079, 862, 465, 1583, 1578, 2340, 504, 1655, 1021, 2010, 11, 162, 10, 1, 539, 86, 1, 56, 277, 244, 56, 1064, 153, 1374, 475, 195, 62, 242, 672, 351, 411, 579, 15, 654, 195, 7, 105, 161, 309, 610, 621, 275, 672, 351, 404, 579, 1124, 502, 482, 536, 1594, 1154, 1021, 193, 654, 195, 1, 2, 109, 1, 56, 69, 672, 351, 404, 349, 502, 482, 277, 219, 56, 287, 672, 351, 404, 349, 536, 475, 195, 105, 185, 654, 195, 121, 106, 591, 672, 351, 349, 1362, 1830, 2552, 1243, 654, 195, 1, 123, 165, 576, 1243, 265, 18, 448, 1, 56, 277, 234, 56, 475, 195, 75, 244, 654, 195, 106, 132, 64, 66, 80, 64, 1, 121, 322, 1, 56, 277, 244, 56, 475, 195, 105, 242, 654, 195, 172, 106, 64, 43, 60, 64, 1, 61, 1132, 13, 126, 534, 187, 10, 1208, 2439, 630, 1798, 32, 37, 1172, 126, 1007, 187, 975, 359, 10, 2033, 746, 10, 153, 960, 492, 11, 467, 1480, 37, 224, 2372, 1488, 1130, 187, 153, 850, 1344, 126, 10, 793, 164, 5, 1317, 1970, 2103, 5, 2089, 2052, 1737, 187, 248, 362, 413, 224, 367, 398, 1024, 78, 166, 118, 164, 729, 997, 37, 37, 238, 126, 126, 534, 193, 225, 166, 118, 164, 37, 851, 864, 945, 1287, 1162, 37, 504, 3, 3]\n"
     ]
    }
   ],
   "source": [
    "# 텍스트가 아닌 인덱스의 벡터로 구성됨을 확인\n",
    "print(text_sequences[1])"
   ]
  },
  {
   "cell_type": "code",
   "execution_count": 24,
   "metadata": {
    "tags": [
     "outputPrepend"
    ]
   },
   "outputs": [
    {
     "output_type": "stream",
     "name": "stdout",
     "text": [
      "b646': 240517, 'iwb076807': 240518, '교교무처장교': 240519, 'oe89': 240520, '452b': 240521, '082e': 240522, 'cmeo06982': 240523, '언더우드국제': 240524, '22d0': 240525, '4ob0': 240526, '143호': 240527, '건국대2019학2543': 240528, '앱민원센터': 240529, '9b08': 240530, '69c3': 240531, '12ae': 240532, 'ethodis': 240533, '9fcf': 240534, 'ce15': 240535, '글로낼행정학': 240536, '출력옮': 240537, '114358': 240538, '3124900142023645': 240539, '170990': 240540, '3346432746543818': 240541, '9aae': 240542, '6cbc': 240543, '36601': 240544, '기계금속재료전공': 240545, '91e6': 240546, 'cme013446': 240547, 'yunhaeng': 240548, '178577호': 240549, '17학4803': 240550, 'bwww': 240551, '40e': 240552, 'walici': 240553, '30c8': 240554, '85f5': 240555, 'iwbo75668': 240556, '010951': 240557, '73cd': 240558, '231d': 240559, 'ae69': 240560, 'ec2f': 240561, 'cme0o1750': 240562, '원본대소가': 240563, '0028248': 240564, '바이오동물전공': 240565, '88450': 240566, '생물산업전문학사': 240567, '3035899774123665': 240568, '05c8': 240569, '32bc3': 240570, 'ef3b': 240571, '690af': 240572, '119608': 240573, '기술경': 240574, '논문심': 240575, '사에': 240576, '대학특성화': 240577, 'psm': 240578, '한국기술교육대': 240579, '12080146': 240580, '00056575': 240581, 'a5a6': 240582, '5fa7': 240583, '1bc4': 240584, 'cmeo11223': 240585, '과학기술대하': 240586, '2017254086': 240587, 'ltwww': 240588, '원본뭐인': 240589, '세술8운': 240590, '탑라브린터': 240591, '좋이올': 240592, '18f0': 240593, 'e778': 240594, '443f': 240595, '37414': 240596, '기업융합법학과': 240597, '는서': 240598, 'tookm': 240599, 'ccb4': 240600, '9cfa': 240601, 'cmeo14338': 240602, 'cognostere': 240603, 'obf4': 240604, '610e': 240605, '0195088': 240606, '003724': 240607, '고급교육': 240608, '학력인증': 240609, '인쇄시간': 240610, '하림': 240611, '1992년05월23일': 240612, '학습방식': 240613, '전일제': 240614, '입학시간': 240615, '졸업시간': 240616, '2014년07월': 240617, '졸업상태': 240618, '학력내용을': 240619, '사실이며': 240620, '중명한다': 240621, '고급학교': 240622, '취업지도': 240623, '햇': 240624, '사서s1': 240625, 'transrer': 240626, '중명을': 240627, '한국번역행정자무소': 240628, 'qffice': 240629, 'ociation': 240630, 'd280': 240631, '7a24': 240632, '85d5': 240633, '1185651': 240634, 'a4v89a212aksywga': 240635, 'dfica': 240636, 'zhan': 240637, 'heile': 240638, 'v56542410': 240639, '2sitie1ovinu': 240640, 'e9gollo': 240641, 'iansm': 240642, 'v56542419': 240643, 'fo82': 240644, '7c96': 240645, 'cme017210': 240646, '학위등록빈': 240647, 'b330': 240648, '976f': 240649, 'cme087785': 240650, 'ebor': 240651, 'wlln': 240652, 'thompash': 240653, '045202': 240654, 'k11070627919': 240655, 'b38c': 240656, 'i0097723': 240657, '57e1': 240658, '1400573': 240659, '회계학부': 240660, '강원대2012': 240661, '춘필시': 240662, '원본확학인문서번호로': 240663, '898e': 240664, 'bd34': 240665, 'cme016671': 240666, '0589237': 240667, '175369': 240668, '2b18': 240669, '7de9': 240670, 'ocang': 240671, '83285': 240672, 'soon일반대학원': 240673, '3138850578732273': 240674, 's980': 240675, '3732786995893523': 240676, 'l2020017741': 240677, '예술학석사': 240678, '학위중서번호': 240679, '32334': 240680, '017741': 240681, '44363': 240682, '733e': 240683, 'deba': 240684, '012853': 240685, 'olytechnic': 240686, '142020': 240687, '37539': 240688, '27c8': 240689, 'bbce3': 240690, '904c': 240691, '39d70': 240692, 'a108': 240693, 'c6ef': 240694, '0164287': 240695, 'dho': 240696, '김혜': 240697, '008064': 240698, '활월지': 240699, '벗전곡': 240700, '회스전화': 240701, 'g12113696': 240702, 'oonmlojloti': 240703, '수일중지가': 240704, 'aye': 240705, 'c3b8': 240706, '5abf': 240707, 'cme065375': 240708, 'praesidial': 240709, 'dihl': 240710, '12006604': 240711, '0053707': 240712, '은흐는율은': 240713, '수0년월일': 240714, '힉': 240715, '의생물학협동과정': 240716, '의생물학': 240717, '야학석사': 240718, '학우등록번도': 240719, '스수료무료': 240720, 't수업증치기': 240721, '아나한': 240722, '29111': 240723, '2d1c': 240724, 'c98d': 240725, 'cme093207': 240726, '깊윤석': 240727, '중명함니다': 240728, '새수강치리건': 240729, '확절기준으로': 240730, 'b8d3': 240731, '7734': 240732, '0268561': 240733, 'veritlux': 240734, 'd99d7': 240735, '0ddcc': 240736, '월분확인번호': 240737, '19007': 240738, '0ddxc': 240739, 'ws22': 240740, 'd8ab': 240741, '서울과기대2019학00569': 240742, '서울과학기': 240743, 'scoultech': 240744, '메뉴r를': 240745, '원본화인문시번호': 240746, '슈명시': 240747, '와인례': 240748, '쥬명시': 240749, '30nuo': 240750, 'e6f3': 240751, '6a9a': 240752, '10103371': 240753, 'oc53': 240754, 'ebdf': 240755, '03f7': 240756, 'dniversitn': 240757, 'cme014780': 240758, '123d': 240759, 'dd8a': 240760, '2ef8': 240761, '새수강지리전': 240762, '하섬기준으로': 240763, '좁업이': 240764, 'uiniversin': 240765, '812d': 240766, 'd5e0': 240767, 'd5fe': 240768, '1388756': 240769, 'kr애서': 240770, 'db2a': 240771, 'ea47': 240772, 'cme013904': 240773, 'jivers': 240774, '연세대화': 240775, 'n2020136453': 240776, '162887': 240777, 'nad201526': 240778, '부산대2015학2612': 240779, '136453': 240780, '5a51': 240781, 'cb2f': 240782, '5929': 240783, 'iwb074028': 240784, '715b': 240785, 'aad4': 240786, '총교회': 240787, '8961': 240788, '027c': 240789, '2a58': 240790, '9e5c': 240791, '37457': 240792, 'n2020135162': 240793, '135162': 240794, '84179': 240795, '대조말': 240796, '경영공학전공': 240797, '3233031994373342': 240798, '639f': 240799, '88b9': 240800, 'cmeo14917': 240801, '이예슬': 240802, '2017136015': 240803, '제수강저리진': 240804, '발남': 240805, '시울서': 240806, '033581': 240807, '교무철장고': 240808, 'wmw': 240809, 'k11180081705': 240810, '000260': 240811, '반주전공': 240812, 'q20': 240813, 'nali0': 240814, '17dd': 240815, '1400682': 240816, '윈본확인문서번호로': 240817, '바코': 240818, '9305': 240819, '5c07': 240820, '0395313': 240821, 'greds': 240822, '016910': 240823, '5225': 240824, '2958': 240825, '06374': 240826, '회석로': 240827, '2019101724': 240828, '무처교': 240829, '1oeh': 240830, '겨울특별시': 240831, '서울극별시강서구방화제3동장': 240832, '적접자건호마': 240833, '통합님': 240834, '300pi': 240835, 'g14024269': 240836, '102059': 240837, '001874': 240838, 'po200205': 240839, 'ny3': 240840, 'n9': 240841, '지영은': 240842, '번0': 240843, '5275': 240844, '02677': 240845, '덕성여대2018': 240846, '장m': 240847, '본송명서는': 240848, '사동받급기에시': 240849, '발가된': 240850, '76413': 240851, '51756': 240852, '619731': 240853, 'smatuo': 240854, '37d1': 240855, '0100001k2011010000': 240856, '대은': 240857, '중어중문학전공': 240858, '한양대2003': 240859, '처5l': 240860, '5831051101026220115': 240861, '5db7': 240862, 'dc09': 240863, '0162889': 240864, '2014학0237': 240865, '65bda': 240866, 'cc12': 240867, '2423c': 240868, '6643': 240869, '차의과학대18학305': 240870, '2990호': 240871, 'i학': 240872, '37de': 240873, 'a839': 240874, '20206400934': 240875, '중병시는': 240876, '홀력을': 240877, '349c': 240878, '4cf2': 240879, 'lkr': 240880, '191602174': 240881, 'wda': 240882, 'sunde': 240883, '0da': 240884, 'so1882': 240885, '2182': 240886, 'certific1nded': 240887, '1664gedad': 240888, 'unp': 240889, 'completionuniversity': 240890, 'swivers': 240891, 'wasen': 240892, 'dmersity': 240893, 'uteersity': 240894, 'iniversityou': 240895, 'oundedd': 240896, 'wwreda': 240897, 'is82': 240898, 'woed832': 240899, 'uuniversity': 240900, 'vase': 240901, 'fow': 240902, 'hnded1882': 240903, 'foounded': 240904, 'ponded': 240905, 'founbe': 240906, 'universwey': 240907, 'oniversiy': 240908, 'daaniversity': 240909, 'thinni': 240910, 'fdate': 240911, 'naseda': 240912, 'foundf': 240913, 'b02': 240914, 'fouundeu': 240915, 'raseda': 240916, 'univewn': 240917, 'wiseda': 240918, 'wasea': 240919, 'wnseda': 240920, 'wwasec': 240921, 'dred': 240922, 'twcounded': 240923, 'wasec': 240924, 'wseda': 240925, 'founden': 240926, 'tamla': 240927, 'wasee': 240928, '3eff': 240929, '7f12': 240930, '7d97': 240931, '36892호': 240932, '웹민완센터': 240933, '가늠합니다': 240934, 'ofu': 240935, 'a0003300': 240936, '94e8': 240937, '835c': 240938, '52bd': 240939, '0101003k2011040001': 240940, '5891050401022820110': 240941, 'b5f5': 240942, 'ca97': 240943, 'cmeo12185': 240944, '연서대학교': 240945, '193j': 240946, 'fde1': 240947, 'hcn9': 240948, 'trushes': 240949, 'satisfaclory': 240950, 'herely': 240951, 'vitness': 240952, 'hhe': 240953, 'officed': 240954, 'jett': 240955, 'zandt': 240956, 'setu': 240957, 'fyt': 240958, 'somple': 240959, 'creditanddegree': 240960, 'tahe': 240961, 'schocl': 240962, '01807': 240963, '고사이버대학교': 240964, '9e17': 240965, 'bcb4': 240966, 'c9d4': 240967, '0100001k2010130017': 240968, '5832153301026120013': 240969, '1102582호': 240970, '기계it대': 240971, '정보통신공학심': 240972, '3437423398943163': 240973, '498b': 240974, '87d2': 240975, 'e158': 240976, '20204405467': 240977, '재학교': 240978, 'f9ad': 240979, 'fed6': 240980, 'af43': 240981, 'cmeo09424': 240982, '601a': 240983, '16d1': 240984, '18f8': 240985, '26584': 240986, '서울여대2017': 240987, '영똥포구': 240988, '121510149': 240989, '서류방행일': 240990, '2120년11월06일': 240991, '사울서영등포구': 240992, '당산제2동장': 240993, '004997': 240994, '잭': 240995, '32ce': 240996, 'c742': 240997, 'universier': 240998, 'cme016798': 240999, '임수미': 241000, '2014121142': 241001, '214044': 241002, '160121': 241003, '9as': 241004, 'kroll': 241005, 'of05': 241006, '2ad5': 241007, '6a7d': 241008, 'cme012510': 241009, '2019312086': 241010, 'd442': 241011, '5d4e': 241012, 'dcbb': 241013, 'cme009480': 241014, '보건의료법윤리전공': 241015, '보건의료범윤': 241016, '보건학식사': 241017, '중경서는': 241018, '원본작인': 241019, '원론대조가': 241020, '4003635': 241021, 'krofl': 241022, 'nza': 241023, '935b': 241024, 'fbc3': 241025, 'cf2b': 241026, 'iwbo74592': 241027, 'dod00': 241028, 'd000o': 241029, 'od000': 241030, '180od': 241031, 'j000': 241032, 'do000': 241033, '1b9e': 241034, 'uiniversitn': 241035, '35729호': 241036, 'od4f': 241037, 'c447e': 241038, 'b406': 241039, '2cf3d': 241040, '김휘': 241041, 'musique': 241042, 'chambre': 241043, 'unanimit': 241044, 'associ': 241045, 'diterrane': 241046, 'b6f2': 241047, '9f3a': 241048, 'cmeo16039': 241049, '842b': 241050, 'cfca2': 241051, '4cc1': 241052, 'd1414': 241053, '148058': 241054, '홍민정': 241055, '02805': 241056, '원본학인번호': 241057, '91073': 241058, '66523': 241059, 'e049': 241060, 'dc84': 241061, 'e7e1': 241062, 'cmeo16475': 241063, '0010850': 241064, '3923408022533499': 241065, '60c1': 241066, '7ce6': 241067, '15e8': 241068, '10109963': 241069, 'fd57': 241070, '9536': 241071, '5c1e': 241072, 'of33': 241073, '9d7b': 241074, '학력사항': 241075, '서울장신대': 241076, 's020': 241077, '계한국방송통신대학교': 241078, '9d15': 241079, '7286': 241080, '0261405': 241081, '292385': 241082, '대학교상': 241083, '047458': 241084, '3037639407753488': 241085, '0268230호': 241086, 'eungnan': 241087, '25254': 241088, 'yeungna': 241089, 'pcollege': 241090, '3241971827012276': 241091, 'wfib': 241092, 'cf30': 241093, '6e70': 241094, '83eb': 241095, 'll1대학교': 241096, 'lniversiay': 241097, '089468': 241098, 'unfve': 241099, '포구': 241100, '115925': 241101, 'kominum': 241102, '본대조매뉴에서': 241103, '3626425332693337': 241104, 'beneticio': 241105, 'nealth': 241106, '2020106967ealt': 241107, 'nashikhaharash': 241108, 'manarashti': 241109, 'nashikmaharashti': 241110, 'healt': 241111, 'eheal': 241112, 'dicineunger': 241113, '201811s1': 241114, 'mdabenmohanhaatehoud': 241115, 'elorofhomoeoathicedicneu': 241116, '12ovahukaga': 241117, 'uhs': 241118, 'maharasht': 241119, 'mahar': 241120, 'erywin': 241121, 'collegemumbarachelohofhomceopatic': 241122, '0181515261635': 241123, '20vahukagaisvali': 241124, 'abenmohandhaipatelomoeopathicmedic': 241125, 'rofhomoeopathicm': 241126, 'oicineburgerywnte': 241127, 'ovahukagaisvaliyakath020107smtchan': 241128, 'moeopathiomedicalcollegemumbaibache': 241129, 'inesurgerywinter201151s': 241130, 'oae0o': 241131, 'muns': 241132, 'arashira': 241133, 'ofheal': 241134, 'shikmaha': 241135, 'prn': 241136, '1515261635': 241137, 'chandaben': 241138, 'mohanbhai': 241139, '20ae0008120': 241140, 'bcfa': 241141, '2020059069': 241142, '예정경': 241143, '2019학2764': 241144, '교교무채': 241145, '질교': 241146, 'northes': 241147, 'tionsl': 241148, '1q': 241149, 'iv56372587': 241150, 'iv56372592': 241151, 'arimekan': 241152, '융합대학원': 241153, '083641': 241154, '정예진': 241155, 'homin': 241156, '3331253397573499': 241157, '9e16': 241158, '56b4': 241159, '29785': 241160, '20에0': 241161, 'f12002': 241162, '202아년10월20일': 241163, '을력별시': 241164, '서훈구': 241165, '빈포제4동장': 241166, '1도자': 241167, '028602': 241168, '수입풍지가': 241169, '정투': 241170, '그효혁을': 241171, '업진': 241172, '로팀': 241173, '전회빈호': 241174, '62116': 241175, '212c1': 241176, '13793': 241177, '차의과학대14': 241178, '61cg': 241179, 'bn1f': 241180, 'gtgc': 241181, 'notinnatnoa': 241182, 'snotis': 241183, 'yonge': 241184, 'cofy': 241185, 'cmb000655': 241186, 'spy': 241187, 'wlth': 241188, 'certlficates': 241189, 'a42f': 241190, '668a': 241191, '번째': 241192, '총4학기': 241193, '017628': 241194, '36404': 241195, '동우': 241196, '동합에': 241197, '중냉은': 241198, '총장명의로': 241199, 'canpus': 241200, 'nedical': 241201, '견획로': 241202, '1선터넷': 241203, '딸1우리': 241204, 'ripia': 241205, '원본대조염으로': 241206, '하남의': 241207, 'or코드뷰': 241208, '환위하여': 241209, '워본대조염은': 241210, '앱스도어': 241211, '겪축': 241212, '다운반울수': 241213, '3935218478043962': 241214, '24242': 241215, '이드므로': 241216, '3942138366283992': 241217, '특벨': 241218, '자치시': 241219, '116543': 241220, '책장': 241221, '밸급': 241222, '스바트': 241223, '3923098964583830': 241224, 'c479': 241225, '0c5f': 241226, '7b4c': 241227, 'cd1b': 241228, 'b14f': 241229, 'cme008883': 241230, '1os용': 241231, '01b2': 241232, 'po201022': 241233, '학교전화번호': 241234, '서강대97': 241235, '0049': 241236, 'f21108194': 241237, '올지로': 241238, 'c61a': 241239, '141124': 241240, '장하의': 241241, '0006687': 241242, '춘천교대': 241243, '종들미': 241244, '3138870586623339': 241245, '0098202': 241246, 'k11048969030': 241247, '9561': 241248, '93a7': 241249, '61dd': 241250, 'fbb3': 241251, 'utho': 241252, 'ekim': 241253, 'ezg': 241254, '102910085': 241255, '99402': 241256, 'balcali': 241257, 'sari': 241258, 'hostels': 241259, 'yurtkur': 241260, 'gsb': 241261, 'sonuc': 241262, 'osym': 241263, 'belgekontrol': 241264, 'c47aszfc': 241265, 'ayal': 241266, 'turhan': 241267, 'olako': 241268, 'seyban': 241269, 'adene': 241270, 'noterlo': 241271, 'mzaka': 241272, 'yetkirbaskatip': 241273, '3c67': 241274, 'afe3': 241275, '0352383': 241276, 'k11047266713': 241277, 'kozacio': 241278, '6747': 241279, 'mahmut': 241280, 'koragu': 241281, 'necla': 241282, 'rosu': 241283, 'rerset': 241284, 'zungsb': 241285, 'sevl': 241286, 'zfng': 241287, 'semarcier': 241288, 'adupa': 241289, 'c73': 241290, '344y': 241291, 'almanea': 241292, 'yeminii': 241293, 'vereidigte': 241294, 'dolmetscherin': 241295, 'sworm': 241296, 'dairemizce': 241297, 'bilinen': 241298, 'ngilizce': 241299, 'konularak': 241300, 'onayl': 241301, 'ilgilisine': 241302, 'verildi': 241303, 'tasdikli': 241304, 'fotokopisinin': 241305, 'ilgilisinin': 241306, 'zerine': 241307, 'evraka': 241308, 'iki': 241309, 'yirmi': 241310, 'sakaryabir': 241311, 'birinci': 241312, 'hakankoz': 241313, 'eylul': 241314, 'tanbul': 241315, 'diplomasi': 241316, 'dplama': 241317, 'meriver': 241318, '7iris': 241319, 'kimiik': 241320, 'caneek': 241321, 'hukak': 241322, 'villik': 241323, 'itim': 241324, 'retimini': 241325, 'yia': 241326, 'kannlarin': 241327, 'bitin': 241328, 'yetkilerden': 241329, 'favdalanmak': 241330, 'zere': 241331, 'diplomayi': 241332, 'kazann': 241333, 'mahmt': 241334, 'abli': 241335, 'glelnia': 241336, 'hakankozacio': 241337, 'canhen': 241338, 'cogum': 241339, 'zgin': 241340, 'atilla': 241341, 'radikoy': 241342, 'nufusa': 241343, 'kayitli': 241344, 'oldugu': 241345, 'tstanul': 241346, 'kadikoy': 241347, 'zentente': 241348, 'tarili': 241349, 'diplodjy': 241350, 'garenci': 241351, 'hayka': 241352, 'neta': 241353, '0323674': 241354, 'sprit': 241355, 'ghal': 241356, 'coopertner': 241357, 'syicty': 241358, '원본대조메뉴애서': 241359, '발급일로부티': 241360, '3037630422133995': 241361, '1d1d': 241362, '1cdc': 241363, 'of92': 241364, 'a349': 241365, 'cmeo11871': 241366, '편세로': 241367, 's134b0': 241368, '1wds031': 241369, 'sv34b04wds031': 241370, '공용0003449': 241371, '이호범': 241372, '보건의료경영학과': 241373, '예정증명서는': 241374, '수강신청학점을': 241375, '포함하여': 241376, '가판단한': 241377, '최종학점취득': 241378, '학위취득여부가': 241379, '달라질': 241380, '수있습니다': 241381, 'eb83': 241382, '49200': 241383, '242da': 241384, '120122': 241385, '김승빈': 241386, 'eou': 241387, 'lamsing': 241388, 'pagu': 241389, 'iniversid': 241390, '7b8z': 241391, '5eaq': 241392, '8t57공릉동': 241393, '참요대학교': 241394, '026236': 241395, '삼육대학': 241396, '활인이': 241397, 'bc37': 241398, '16108': 241399, 'onoa': 241400, 'f21611170': 241401, '2020년11월03일요': 241402, '중업시는': 241403, '민원셉터': 241404, 'webrminveon': 241405, '원본횟면이': 241406, '가능형니다': 241407, '미종한': 241408, '용인대학교총장': 241409, 'kmb3': 241410, 'ad19': 241411, '육사2018': 241412, '1장인': 241413, '074d': 241414, '18c6': 241415, '8dae': 241416, '기록정보과학전문대학원': 241417, '기록관리전공': 241418, '명지기록전문대': 241419, '기록정보학석사': 241420, 'bff8': 241421, '64e04': 241422, '3424d': 241423, '128072': 241424, '충남대학교출장를': 241425, '496e': 241426, 'cme091786': 241427, '111111': 241428, 'shuth': 241429, 'dim': 241430, 'gash': 241431, 'preifht': 241432, 'sunbaltalten': 241433, 'givi': 241434, 'prosout': 241435, 'l121': 241436, '25101527': 241437, 'u25101527': 241438, '152297': 241439, '서경하': 241440, '과중과여': 241441, 'reur': 241442, '광수역세회': 241443, '스이즈지기': 241444, '이여첨부': 241445, '월입rro의': 241446, '발급빈호': 241447, '2o229u': 241448, 'al니의영상명은': 241449, '없출': 241450, '남타화교동장니': 241451, '전해번': 241452, '867c': 241453, 'ce09': 241454, '을산광역시': 241455, '124443': 241456, '증냉시입니다': 241457, 'welbminw': 241458, 'dfa2': 241459, '51f6': 241460, '57f2': 241461, 'cme003445': 241462, '서현기': 241463, '2014123154': 241464, '202874': 241465, 'fengming': 241466, 'provine': 241467, 'v55845345': 241468, 'northerm': 241469, 'v55845346': 241470, '7b09': 241471, 'd79a': 241472, '4b8b': 241473, '26546': 241474, '77be': 241475, 'b854': 241476, 'cmeo10284': 241477, 'eeob': 241478, 'a5c1': 241479, 'a07c': 241480, '한국무여정보통신': 241481, '21617': 241482, '권예진': 241483, '여이': 241484, 'f034': 241485, '61af': 241486, 'a9b4': 241487, 'cme085574': 241488, '무처체': 241489, 'scodamungu': 241490, 'f266': 241491, '0260115': 241492, '545190': 241493, '방송대2012학': 241494, 'h9yl': 241495, 'f2aa': 241496, 'dfxz': 241497, 'cmb002182': 241498, '10611011': 241499, 'thorized': 241500, 'oflicial': 241501, 'co005664': 241502, '장에r': 241503, '교무처d': 241504, 'zhenyang': 241505, 'resistration': 241506, 'hotocopy': 241507, '13074542': 241508, '13074610': 241509, '3c40': 241510, '04ea': 241511, '4dee': 241512, '11775': 241513, '0037807': 241514, '안동대': 241515, '33488': 241516, '3626405319173842': 241517, '0373450': 241518, 'peobl': 241519, '3138810528012276': 241520, '137e': 241521, '9efo': 241522, '48e': 241523, 'cmeo08656': 241524, 'cmeo11998': 241525, '수강하': 241526, '섬은': 241527, '재수강처리선': 241528, '폴임요건을': 241529, '졸없이': 241530, 'kenpilwww': 241531, 'onaelackr': 241532, '업서로서': 241533, '문서현호를': 241534, 'mersituy': 241535, 'tonseieo': 241536, 'c482': 241537, '88eb': 241538, 'cbf8': 241539, 'cme010890': 241540, '6aeo': 241541, '54d0': 241542, 'e269': 241543, 'gwang': 241544, '건국대2018학3550': 241545, '증명서는인넷으로발급한': 241546, '통해원본조자유하발급': 241547, 'a8a4': 241548, 'd9f1': 241549, 'aa13': 241550, 'cfc9': 241551, '167ba': 241552, '23jj': 241553, '622i': 241554, 'rhl8': 241555, '국역': 241556, '0152382': 241557, '20150334': 241558, '2019hak1345': 241559, 'ye22': 241560, 'hankol': 241561, 'reion': 241562, '94e6': 241563, '6af5': 241564, '4c9e': 241565, 'cmeo14181': 241566, 'latt': 241567, 'rya': 241568, 'ailgy': 241569, 'aa90ttay': 241570, '4y': 241571, '199v01': 241572, 'islamie': 241573, '366th': 241574, 'wishing': 241575, 'uniting': 241576, '97739': 241577, 'olficial': 241578, 'translatnr': 241579, 'pewer': 241580, 'goneral': 241581, 'judictery': 241582, 'istamic': 241583, 'certifen': 241584, 'telhran': 241585, 'licenee': 241586, 'evlfi': 241587, '차대i': 241588, '3138940502833845': 241589, 'xp27': 241590, '6ja1': 241591, 'd2gn': 241592, 'khht': 241593, '2020050771': 241594, '교터에마': 241595, 'eaf': 241596, 'f0j': 241597, 'mayci': 241598, '입대학전': 241599, '0083049': 241600, '톨릭대학교': 241601, '186556': 241602, 'onors': 241603, 'eonellar': 241604, '제2020b00154': 241605, '동서대2019': 241606, '간편': 241607, '위챗': 241608, '홍바오': 241609, 'a97e': 241610, '3647': 241611, '0afa': 241612, '권형근': 241613, '2063210033': 241614, '서울디지털대': 241615, '서울디지털대학교총': 241616, '07654': 241617, '공항대로': 241618, '훨본확인': 241619, 'xds8': 241620, 'b98d': 241621, 'a58c': 241622, '106257': 241623, '전기공학복': 241624, '공스마': 241625, '차공': 241626, '다전공학': 241627, '총교이': 241628, '침주시': 241629, 't043': 241630, '중시는': 241631, '되입으4': 241632, '태당': 241633, 'ceril': 241634, 'ctwusackr에서': 241635, '에뉴': 241636, '원임본': 241637, '서럼호보': 241638, '위본문시를': 241639, '하던의': 241640, '미코드로': 241641, '위본대조번호를': 241642, '발보': 241643, 'do일에지': 241644, 'hungba': 241645, '4c779': 241646, '3ab2': 241647, '2407e': 241648, 'riespra': 241649, '발급일도무터': 241650, '6861': 241651, 'v34753680': 241652, 'tcsol': 241653, 'v34753681': 241654, 'iv34753682': 241655, 'rofert': 241656, 'imegna': 241657, 'therryl': 241658, 'leach': 241659, 'ckief': 241660, 'arademic': 241661, 'krook': 241662, 'maun': 241663, 'stath': 241664, '5776': 241665, '교1d': 241666, 'sye': 241667, '240f': 241668, '02934': 241669, '처장m': 241670, '50582': 241671, '71561': 241672, '129491202005040458': 241673, 'xianke': 241674, '129491202005040158': 241675, 'v56481971': 241676, 'v56481974': 241677, '0696': 241678, '8d14': 241679, '0478': 241680, '8576': 241681, '0269220': 241682, '27122': 241683, 'paok': 241684, '0011628': 241685, '교역학식사이': 241686, '장신대19': 241687, '우신하': 241688, '쉬니c': 241689, '18002636': 241690, 'ikj': 241691, 'engahan': 241692, 'incontorsity': 241693, 'attachod': 241694, 'heeto': 241695, '0ltiee': 241696, 'seath': 241697, 'peopte': 241698, 'iv18108605': 241699, 'iv18108606': 241700, 'borr': 241701, 'tarial': 241702, 'nformity': 241703, 'rtifion': 241704, 'iv18108607': 241705, 'iv18108608': 241706, 'iaisiatom': 241707, 'licazatioa': 241708, 'jion': 241709, 'chna': 241710, '86087': 241711, 'tayl': 241712, '9413214': 241713, 'yaoo': 241714, '직안': 241715, 'erepublic': 241716, '수입대체경비소인': 241717, '27052': 241718, '부원료': 241719, 'therepusi': 241720, '0003419272': 241721, '형사수입금': 241722, 'onsulate': 241723, 'ulate': 241724, '58d4': 241725, 'd4a89': 241726, 'da1f': 241727, '6c9c4': 241728, '147903': 241729, '23339': 241730, '95639': 241731, 'sab04152': 241732, '국제상학전공': 241733, 'aanyangunversity': 241734, '041hanyang': 241735, 'manvan': 241736, '0100001k20101500146': 241737, 'uniwensiry': 241738, 'hanvhg': 241739, 'balc': 241740, 'hersi': 241741, 'oiversiy': 241742, '한양내학교': 241743, 'dawersit': 241744, 'thanyan': 241745, '4594호': 241746, 'f9i': 241747, 'hm2020년': 241748, '한양디학교': 241749, 'aventy': 241750, 'yangurivers': 241751, 'awaryaniversity': 241752, 'owiversit': 241753, 'ranyana': 241754, '2891153501020120010': 241755, 'manyanguriversity': 241756, 'trmayang': 241757, 'oniversaty': 241758, 'universitx': 241759, 'uiiversity': 241760, 'c0003107': 241761, '0o003108': 241762, '교무천해t': 241763, '0372392': 241764, 'marld': 241765, 'ivillage': 241766, 'tlontli': 241767, 'coopenltram': 241768, '3838977068903174': 241769, '06811': 241770, '210mx': 241771, 'republu': 241772, '1대학': 241773, 'antheon': 241774, 'bliq': 241775, 'jeunesse': 241776, 'avril': 241777, 'modifiant': 241778, 'gethel': 241779, '3739784': 241780, '2003200109751': 241781, 'seuugho': 241782, 'junt': 241783, '0002169235': 241784, '염수필증': 241785, 'schaf': 241786, 'a4d8': 241787, '0247277': 241788, '7ccb': 241789, '0661': 241790, '9c10': 241791, '29771': 241792, '호텔관광외식경영학부': 241793, '호텔관광경영학전공': 241794, '투어리즘': 241795, '융합선공': 241796, '0374204': 241797, '01404': 241798, '우회': 241799, 'gr코드를': 241800, '3523424032553827': 241801, '026271': 241802, '이샘': 241803, '3540424697643343': 241804, '3583': 241805, '총장l': 241806, 'fe50': 241807, 'b50f': 241808, 'cme014083': 241809, 'i103208': 241810, 'henese': 241811, '2393': 241812, 'feee8': 241813, '40f2': 241814, '647e5': 241815, '48029': 241816, '0379': 241817, '8cbo': 241818, '7a1d': 241819, '9628': 241820, 'cmeo13218': 241821, '인터벗으로': 241822, '홈태이지에서': 241823, '원선학인': 241824, '제162513호': 241825, '3746666871082273': 241826, '5ab1': 241827, '16bf': 241828, 'edc9': 241829, '하승': 241830, '공익과법연계전공': 241831, '공공규범학사': 241832, '성균관': 241833, '5c63': 241834, 'd819': 241835, '68fc': 241836, 'cmeo14890': 241837, '폴업요건을': 241838, '0529': 241839, '3346472782203996': 241840, 'fbob': 241841, 'cme016859': 241842, 'cdd4': 241843, '3c85': 241844, '026692': 241845, 'wabminwon': 241846, '7252': 241847, '375b': 241848, '언더우느국제대학': 241849, 'yosci': 241850, '8페이지에서': 241851, '왼본화인': 241852, '킬라프린티': 241853, '답력을': 241854, '73ce': 241855, '4988': 241856, 'a6ee': 241857, 'fob': 241858, '5f1f': 241859, 'afda': 241860, '지역건설공학과': 241861, '충북대2017': 241862, '원본확인분서번호로': 241863, '주심시요': 241864, '원본태조번호를': 241865, '90일까시': 241866, '07a4': 241867, 'e816': 241868, '4030': 241869, '0265579': 241870, '발급되있으며': 241871, '접하여': 241872, '윈본대조번호': 241873, '유요성음': 241874, 'tesfimony': 241875, 'registnar': 241876, 'feinfae': 241877, 'jom': 241878, 'holta': 241879, 'sohar': 241880, 'sohvel': 241881, 'gevernment': 241882, '55ec': 241883, 'c99f': 241884, 'i0110566': 241885, 'puunmiung': 241886, '6367': 241887, '0956': 241888, 'ncwomens': 241889, 'ckmyuncwo': 241890, 'sookmyucwo': 241891, 'sookamyung': 241892, 'uniersitokmtung': 241893, 'verster': 241894, 'uhivie': 241895, 'wolen': 241896, 'universly': 241897, 'dgrmy': 241898, 'sobkmyu': 241899, 'sekmyungwod': 241900, '0okndng': 241901, 'okmyung': 241902, 'uneversify': 241903, 'kmyungwomens': 241904, '5ookmy': 241905, 'wonmenuniver': 241906, 'dav': 241907, 'alisahaina': 241908, 'onawoos': 241909, 'aistaina': 241910, 'shawomonawxoos': 241911, 'alisaino': 241912, 'onnawoo': 241913, 'staind': 241914, 'msunnersity': 241915, 'sokmyngomens': 241916, 'scokmung': 241917, 'sodkmyung': 241918, 'sockmyig': 241919, 'esibos': 241920, 'yomens': 241921, 'worens': 241922, '기업법무학사': 241923, 'dnawoos': 241924, 'worin': 241925, 'scokmyune': 241926, 'ookmyungomen': 241927, 'inigersity': 241928, 'scooka': 241929, 'soeenm': 241930, 'sookryung': 241931, 'unersia': 241932, 'scokmylng': 241933, 'ckmtongy': 241934, 'sookmyngvome': 241935, 'sookmm': 241936, 'dndawnoos': 241937, 'dndawcioosaisaino': 241938, 'sinwom': 241939, 'dndawioos': 241940, 'iseainn': 241941, 'imty': 241942, 'woned': 241943, 'twomcno': 241944, 'ersify': 241945, '014152': 241946, '오채아': 241947, '경성대19': 241948, '종공장': 241949, '48af': 241950, '8e72': 241951, 'cme013366': 241952, '2015181032': 241953, '세대학': 241954, '대악교': 241955, 'f249': 241956, '48e1': 241957, 'cmeo16093': 241958, '2013191069': 241959, '207682': 241960, '승명서로서': 241961, '연세내악교': 241962, '증멍': 241963, '출려을': 241964, '104015': 241965, '항공우주공학심화프로그램': 241966, '2e7d': 241967, '7fco': 241968, '848e': 241969, 'oee9': 241970, 'e498': 241971, '1i0101388': 241972, '소비자학과': 241973, '0000o': 241974, 'universbty': 241975, '5ity': 241976, 'sokea': 241977, 'bnive': 241978, 'rstiy': 241979, 'liniversie': 241980, 'iniveety': 241981, 'euniveeity': 241982, 'korfe': 241983, 'univlrse': 241984, 'euners': 241985, 'veey': 241986, 'niveriy': 241987, 'euniver': 241988, 'k경영학사': 241989, 'iaing': 241990, 'nen자유전공학부': 241991, 'versityv': 241992, 'k경제학과': 241993, 'univh': 241994, 'luniv': 241995, 'lnivelsitv': 241996, 'unness': 241997, 'cob4': 241998, '5182': 241999, 'd0b1': 242000, 'cmedi0792': 242001, '조제싱': 242002, '2018452024': 242003, '공학내학원': 242004, '공학경영진공': 242005, '6601': 242006, '제6604호': 242007, 'poled': 242008, '연세대학교00722': 242009, '시내로구': 242010, 'b212123': 242011, 'yod': 242012, 'seodaimrin': 242013, 'youackr': 242014, 'd230': 242015, 'f650': 242016, '0027146': 242017, '108867': 242018, '2228': 242019, 'd6e5': 242020, 'yonstl': 242021, 'cme085780': 242022, '신소제공학과': 242023, '45499호': 242024, 'arash': 242025, '3eca': 242026, 'b371': 242027, 'uninnty': 242028, '091015': 242029, 'shote': 242030, '총골': 242031, '0020873': 242032, '3729266579203993': 242033, '0068787': 242034, '3643625530203995': 242035, 'f66a': 242036, 'b5e7': 242037, '1de3': 242038, '1128849': 242039, '웨면원': 242040, 'wsd9': 242041, 'c1cb': 242042, 'b61d': 242043, 'eeda': 242044, 'oultec': 242045, '여부람': 242046, '발급일료': 242047, '메뉴쿨': 242048, 'technolggy': 242049, 'a5a5': 242050, '28a3': 242051, '198319': 242052, 'unjv': 242053, '3734196096693523': 242054, 'gaiaajuos': 242055, 'sry': 242056, 'khay': 242057, 'paln': 242058, 'urag': 242059, '72375': 242060, '7a60': 242061, 'fb27': 242062, '7a83': 242063, '063154': 242064, '0098934': 242065, '물리치료전공': 242066, '3232971921503828': 242067, '0308539': 242068, 'b05989176901': 242069, '0061640': 242070, '스포츠무용학부': 242071, '스포츠건강관리전공': 242072, '촬영한여': 242073, 'k13070780507': 242074, '9d94': 242075, 'uaniversit': 242076, 'cme016100': 242077, '2017175034': 242078, '프명서는': 242079, '제랄용은': 242080, '019099': 242081, '3626235247413667': 242082, 'a2fd': 242083, '085e': 242084, '1b66': 242085, 'dniversien': 242086, 'cme088927': 242087, '징민철': 242088, '2013191052': 242089, '207692': 242090, '010241호': 242091, '김천대2014': 242092, '득허': 242093, '3226181905873161': 242094, '221479769': 242095, '090100': 242096, '9354': 242097, '5138': 242098, 'a9e0': 242099, '13817': 242100, 'rsereec': 242101, '대전과기대2017': 242102, '간사실을': 242103, '대전과학기술대학교중': 242104, '의료융': 242105, '합대학': 242106, '3523074950812286': 242107, '87ff': 242108, '4df1': 242109, 'cme015595': 242110, '0010975': 242111, '20o': 242112, 'gloriao': 242113, '3329542608253831': 242114, '9afc': 242115, 'c9bb': 242116, 'c599': 242117, 'cme015067': 242118, '조동규': 242119, '응용봉계학': 242120, '7당해학기': 242121, '채수강처리': 242122, '학짐기준오로': 242123, '중곡': 242124, '면세보': 242125, 'co2123': 242126, 'setalamman': 242127, 'seual': 242128, 'kova': 242129, 'hrpdewwyondacke': 242130, '확업': 242131, '원대가가능': 242132, 'w글1년간': 242133, '82a6': 242134, '4fe7': 242135, 'dbb4': 242136, 'cme015446': 242137, '6992': 242138, 'xiaokun': 242139, 'tiantan': 242140, 'ofio': 242141, 'septisbe': 242142, '09943330': 242143, '09943333': 242144, 'eocc': 242145, '7eeb': 242146, 'e929': 242147, '1693호': 242148, '원뿐대조': 242149, '6f57': 242150, '8e9b': 242151, '1d6e': 242152, '126621': 242153, '탭민원센터': 242154, '콤페이지': 242155, '772d': 242156, '4ca6b': 242157, '60a8': 242158, '7a3bd': 242159, '148666': 242160, '474e': 242161, '0bdd': 242162, 'd2ea': 242163, 'ad3b': 242164, 'cme016041': 242165, '중염서는': 242166, '073a': 242167, '5b54': 242168, '5edb': 242169, 'f16d': 242170, '1d60': 242171, '20440': 242172, 'vesy': 242173, '6bca': 242174, '81e1': 242175, 'i0040798': 242176, 'e1e1': 242177, '8e5a': 242178, 'f07d': 242179, 'i0097551': 242180, 'cgeneratials': 242181, 'discteec': 242182, 'brakiell': 242183, 'seeun': 242184, 'johntlarrin': 242185, '0358282': 242186, '10융10': 242187, '외국학대학': 242188, '및전공': 242189, '일본학과': 242190, '야처그': 242191, '36405': 242192, '횟쪽을한': 242193, '2020년10월1p일관기관': 242194, '들전화번호': 242195, '5744': 242196, '장교리': 242197, '7b69': 242198, 'ecc3': 242199, '0db2': 242200, '됨분확인': 242201, '몸해': 242202, 'nula': 242203, 'd5d9': 242204, '가회과학대한': 242205, '하위번호': 242206, '38283': 242207, '현대문학전공': 242208, '사학위과정을': 242209, '문학석사의': 242210, 'dido': 242211, 'dojbolman': 242212, 'psgp': 242213, 'x2a2': 242214, 'hf9b': 242215, '035687': 242216, '재무학전공': 242217, '0078200': 242218, 'y2': 242219, 'iseua': 242220, 'cetificate': 242221, '16md': 242222, 'byam': 242223, 'tdy7': 242224, '6rq3': 242225, '149067': 242226, '9c5a': 242227, 'uijoo': 242228, '178602호': 242229, '건국대2017학4828': 242230, '74687': 242231, '항설나눔대학': 242232, 'nv글로벌자유전공학과': 242233, 'com에서원본대조': 242234, '바표료드로': 242235, 'k01939617524': 242236, '74688': 242237, 'chunhyang': 242238, '당학교': 242239, 'k01904686724': 242240, 'icademy': 242241, 'adadamy': 242242, 'oademy': 242243, 'acede': 242244, 'acal': 242245, '공군사관학교판장': 242246, 'a151018': 242247, '정치언론홍보학과': 242248, '38133': 242249, '정치언론홍보학사': 242250, 'cipce': 242251, '48pm': 242252, '3619206': 242253, '줄업예정자임을': 242254, '감리교진학대학': 242255, '감광치가번영': 242256, '아니킴': 242257, '더서울특별시송파구': 242258, '2828': 242259, '중명은그': 242260, '호혁': 242261, '보풍할수': 242262, '5738': 242263, 'f43f': 242264, 'b8c0': 242265, 'cme009310': 242266, 'talwan': 242267, '정광호': 242268, '20l0년': 242269, '지410': 242270, '성정광호': 242271, 'jug': 242272, '102038': 242273, 'suslic': 242274, 'ngun': 242275, 'feairs': 242276, '113853': 242277, 'distriet': 242278, 'naniing': 242279, 'noyember': 242280, '2b17': 242281, '59f1': 242282, 'cmeo09766': 242283, '10216037': 242284, '풍혜': 242285, 'hentanhiversiy': 242286, 'tangversity': 242287, '12hanva': 242288, '0100002k20091500020': 242289, 'ranyarg': 242290, '만양대학교': 242291, 'h솔': 242292, '한양대교': 242293, '역유': 242294, 'naty한': 242295, '통상한국어커뮤니케이선전공': 242296, '고a': 242297, '한뒤': 242298, 'aoaoy': 242299, '49a': 242300, 'hanyg': 242301, 'ranvang': 242302, '만양': 242303, 'hanvauniversity': 242304, 'unicersity': 242305, 'unversitt': 242306, 'uverst': 242307, 'urersity': 242308, '2861155501025920903': 242309, 'hamy': 242310, 'panta': 242311, 'rsuty': 242312, '183770': 242313, 'ollole': 242314, '제학생': 242315, 'echhic': 242316, '04360': 242317, '21df': 242318, '7d43a': 242319, '36ded': 242320, '147371': 242321, 'f521': 242322, 'ebd1': 242323, '0154501': 242324, '영미권통상통번역': 242325, '2019학1877': 242326, 'oughet': 242327, '0369830': 242328, '최효성': 242329, '3040919201163962': 242330, '0374011': 242331, '글로벌거버넌스학과': 242332, '글로벌거버넌스': 242333, '국제개발학석사': 242334, 'k11168911306': 242335, '33919': 242336, '신흥': 242337, 'ouniver': 242338, '산대학교': 242339, '총정의': 242340, '3142440429653535': 242341, 'inhan': 242342, 'topea': 242343, '엄수린': 242344, 'lorla': 242345, 'l정경대학': 242346, 'urive': 242347, 'fopea': 242348, '증병서로': 242349, '증명시발금': 242350, '봉해시': 242351, '72a1': 242352, '501f': 242353, 'ff13': 242354, '6857': 242355, 'b92d1': 242356, 'd9d3': 242357, '2a957': 242358, '980403': 242359, '6410': 242360, '7f21': 242361, 'iwbo80764': 242362, '2018학4217': 242363, '둘대': 242364, '3003338': 242365, '951010': 242366, '공연영상학': 242367, 'f21601048': 242368, '을특별그그': 242369, '그로제2도자': 242370, '그효력울': 242371, 'atang': 242372, 'iaijanm': 242373, 'reof': 242374, 'amai': 242375, '0101014k20110600003': 242376, '인양디아': 242377, '인대학교': 242378, 'kanyan': 242379, '고haguniversity': 242380, '민양대약교': 242381, 'amyan과정': 242382, '5기': 242383, 'f9': 242384, 'eastty': 242385, 'manyahg': 242386, 'harangvversity': 242387, 'erslt': 242388, 'ngversity': 242389, 'kanyag': 242390, 'hanly': 242391, '2890055601023320110': 242392, 'ersary': 242393, 'anyanquniversity': 242394, 'p8992': 242395, 'd99f': 242396, 'a7ba': 242397, 'cme012964': 242398, '2015142174': 242399, 'b971': 242400, '8a4f': 242401, '16917': 242402, '그대2014': 242403, '교무첨장류': 242404, 'mish': 242405, '07e4': 242406, '2b98': 242407, 'bc12': 242408, '25532': 242409, '860912': 242410, '2722218': 242411, '영상디자인전공': 242412, '명지대10': 242413, '한민국대사': 242414, 'assyens': 242415, 'commissioners': 242416, 'ncok8g05dc': 242417, 'repldacde': 242418, 'notarialcertificate': 242419, 'downloadncs': 242420, 'paymentid': 242421, '85288': 242422, 'whatsoever': 242423, '02500289': 242424, 'acok8g098d': 242425, 'kgademy': 242426, 'foreion': 242427, 'dingapore': 242428, 'deva': 242429, 'kaur': 242430, 'adwe': 242431, 'nesciamus': 242432, 'mbume': 242433, '061278': 242434, '주재국': 242435, '공문서': 242436, '공중문서': 242437, '주싱가포르대한민국': 242438, 'scotts': 242439, 'goldbell': 242440, '228233': 242441, 'ebass': 242442, 'ce6f': 242443, '44c4': 242444, 'f8dc': 242445, 'phsi661': 242446, '외래2마트': 242447, '9f40': 242448, 'fcb3': 242449, '54713': 242450, '58142': 242451, 'sma03104': 242452, 'okro': 242453, '3853': 242454, '4668': 242455, '0270267': 242456, '0372751': 242457, '승민욱': 242458, '원자력공학과': 242459, '원자력공학': 242460, '02657': 242461, '3935548738473679': 242462, 'bee4': 242463, '0101013k2011040001': 242464, '0601호': 242465, '5890053401026620114': 242466, '뽑인8센터': 242467, '홈퍼이지': 242468, '부인주십시오': 242469, '다한': 242470, '직인연용': 242471, '55db': 242472, 'ab78': 242473, 'f41f': 242474, '547d': 242475, 'cmeo13892': 242476, '공학시': 242477, '90bc': 242478, '154c': 242479, '5a62': 242480, '363f': 242481, 'b63e': 242482, 'daao': 242483, 'indelin': 242484, 'ed01': 242485, '014b': 242486, 'b6c8': 242487, 'cmeo13258': 242488, '02de': 242489, '4ea5': 242490, '10094966': 242491, '장1l': 242492, '70878': 242493, '오지은': 242494, '디자인영상학부': 242495, '인테리어디자인전공': 242496, '제중명서를': 242497, '3732796906703503': 242498, 'dkooj': 242499, '0043231': 242500, '3729206513433670': 242501, 'b2d3': 242502, 'bbba': 242503, '6c13': 242504, 'cmeo04498': 242505, '졸업증서먼': 242506, '안세대학교': 242507, '0127680': 242508, '치위생학전': 242509, '201749907': 242510, '3837597917123634': 242511, 'nst04년': 242512, 'oist': 242513, '교뮈커교': 242514, '3437353298872286': 242515, '산촌': 242516, '1fbe': 242517, '3c0a': 242518, '5444': 242519, '37374호': 242520, 'aecc': 242521, '8c4b': 242522, '0148457': 242523, '201601209': 242524, '곧업예정일자': 242525, 'vinwo': 242526, 'wesmin': 242527, 'wedman': 242528, 'ermi': 242529, 'hsaake': 242530, 't82': 242531, 'fsx': 242532, '22173': 242533, 'pimr': 242534, 'comph': 242535, 'mrren': 242536, '2015280324': 242537, '1000332018002175': 242538, 'singhu': 242539, 'universifly': 242540, '202e': 242541, '5tna': 242542, 'h5k3': 242543, 'iric': 242544, 'c876': 242545, 'defa': 242546, '026359': 242547, '6k21': 242548, '8vie': 242549, 'huqy': 242550, 'koona': 242551, 'ominnive': 242552, 'nookminnivty': 242553, '03748': 242554, 'nookming': 242555, 'nokmin': 242556, 'kookminnivers': 242557, 'unmersedy': 242558, '국입대원교': 242559, 'kookminniversi': 242560, 'koookmin': 242561, 'unvekd국민다': 242562, 'gicion': 242563, 'reim': 242564, '9om': 242565, 'universetye': 242566, '9t6': 242567, 'universeyeig': 242568, 'repn': 242569, 'kookmininiversitya': 242570, 'htertcko': 242571, 'kookmininiversity': 242572, 'k0okmin': 242573, 'kookminsivea': 242574, 'pbri': 242575, 's9ae': 242576, '2ye': 242577, 'tormin': 242578, '99n': 242579, 'a한국방송통신대매학교': 242580, 'e154': 242581, '0246347': 242582, '338128': 242583, '666239': 242584, '16423': 242585, 'od6a': 242586, '0d3a': 242587, '2020055799': 242588, '최종욱': 242589, '520303': 242590, '7801122': 242591, '공업경영학과': 242592, '공업경영학전공': 242593, '81나61497': 242594, 'e23b': 242595, '440e': 242596, 'ca3f': 242597, '19132': 242598, 'walek': 242599, 'sungbsk': 242600, '영영서는': 242601, '인8센터': 242602, 'vgduk': 242603, 'seoveong': 242604, 'nddo': 242605, '0sb6': 242606, '13505': 242607, 'cc62': 242608, 'cme0511': 242609, '홍수군': 242610, '2014145019': 242611, '공과대깍': 242612, '박위능록빈': 242613, '4507': 242614, '21761': 242615, 'vmuseae': 242616, 'younci': 242617, 'slcn': 242618, 'yusci': 242619, '본음명기는': 242620, '인티넷그로': 242621, '발급단': 242622, '인시대학교': 242623, '홈페이기에서': 242624, '인본회인': 242625, '재8곤': 242626, '싱생': 242627, 'fcc0': 242628, '5803': 242629, 'e6bb': 242630, '전지완': 242631, '7d10': 242632, '9365': 242633, '7207': 242634, '0254157': 242635, '200334': 242636, '336670': 242637, '방송대2004학': 242638, '파겸': 242639, 'oa1a': 242640, 'ab77': 242641, '강한성': 242642, '0128777': 242643, '3732796917493340': 242644, '0082004': 242645, '바이오메디대학': 242646, 'e입규용': 242647, '3329202529663160': 242648, 'f686': 242649, 'deb3': 242650, '26bf': 242651, 'cmeo14668': 242652, '2018311910': 242653, '식물분자발생유전체학': 242654, 'wwwoousei': 242655, 'soyutet': 242656, 'yonlac': 242657, '분명서는': 242658, '티넷으로': 242659, '서포서': 242660, '봄인': 242661, '서변를': 242662, '프린': 242663, 'hotr': 242664, '732j': 242665, 'ft80': 242666, '20200925': 242667, '151296': 242668, '처장한': 242669, '21ee': 242670, '63b4': 242671, 'jersie': 242672, 'cmeo08500': 242673, '정현엄': 242674, 'youwei': 242675, '양명서는': 242676, '메이지에서': 242677, 'lattimore': 242678, '270038': 242679, '14627': 242680, 'alseal': 242681, '9cf0': 242682, 'ddc84': 242683, 'de6b': 242684, '6efd6': 242685, '143888': 242686, '박치원': 242687, '4d18': 242688, '0000396': 242689, '560460': 242690, '파사학': 242691, 'wlashington': 242692, 'harrina': 242693, 'tharda': 242694, 'braeer': 242695, 'hhashington': 242696, '844c': 242697, '18f5': 242698, '2020055823': 242699, '처장고': 242700, 'pertains': 242701, 'ceremonial': 242702, 'gathered': 242703, 'alumnus': 242704, 'oath': 242705, 'michacl': 242706, 'esfa': 242707, 'ssant': 242708, 'estampilla': 242709, 'a2uig326434471': 242710, '070040007471294': 242711, '73076568427': 242712, 'articulo': 242713, 'letra': 242714, 'reunieron': 242715, 'directivas': 242716, 'facultad': 242717, 'ciencias': 242718, 'ticas': 242719, 'conferir': 242720, 'tulo': 242721, 'abogad0': 242722, 'comprobado': 242723, 'bachillerato': 242724, 'aprobaci': 242725, 'asignaturas': 242726, 'componen': 242727, 'carrera': 242728, 'requisitos': 242729, 'adicionales': 242730, 'alados': 242731, 'reglamentaci': 242732, 'graduando': 242733, 'promesa': 242734, 'reglamentaria': 242735, 'entreg': 242736, 'acredita': 242737, 'abogado': 242738, 'conste': 242739, 'aparece': 242740, 'ttiuehoal': 242741, 'galindo': 242742, '337d3': 242743, 'd7b4': 242744, '1ad91': 242745, 'gilven': 242746, 'jesaisalclul': 242747, 'distinetion': 242748, 'fd41': 242749, '59ac': 242750, '1e30': 242751, 'f039': 242752, '86de': 242753, '86c6': 242754, '026261': 242755, 'b3c2': 242756, '03e9': 242757, '026868': 242758, '성신여대2014': 242759, '43a9': 242760, '636f': 242761, 'ddfc': 242762, '1392083': 242763, 'd240': 242764, '4dd49': 242765, 'cd5f': 242766, 'cb7a2': 242767, '961012': 242768, 'bc13': 242769, '1c81': 242770, 'cme015947': 242771, '체장을': 242772, 'kure': 242773, 'versiet': 242774, 'ndersit': 242775, '5215hn': 242776, 'koreiveaiy': 242777, 'voora': 242778, 'vesf': 242779, 'ferst': 242780, 'enersit': 242781, 'coreakorea': 242782, '장교무': 242783, '950417': 242784, '발급지었으며': 242785, 'dazloook': 242786, '떼': 242787, '접숙하여': 242788, '상만의': 242789, '급호': 242790, '입국하연': 242791, '왼본대그': 242792, '휴효을': 242793, '결한': 242794, 'ecbo': 242795, '09cc': 242796, 'f958': 242797, '명지문예대': 242798, '교회음악학석사': 242799, '5d55': 242800, 'b09f': 242801, 'f7dc': 242802, 'taehyeon': 242803, '3dc2': 242804, 'cc1d': 242805, '757e': 242806, 'cme014591': 242807, '2016275020': 242808, '학위등독': 242809, '3759': 242810, '216865': 242811, '원본파인': 242812, 'n2020136871': 242813, '정한범': 242814, '노어노문학과': 242815, '인터넷증명말금번호': 242816, 'x2020': 242817, '136871': 242818, '69890': 242819, '밝급하였습니다': 242820, '인터넷종명발급번호로': 242821, '대조랑': 242822, '001280호': 242823, 'ngune': 242824, '4d87': 242825, '22fc': 242826, '3d8f': 242827, '0100001k2009170007': 242828, '박종한': 242829, '생활체육전공': 242830, '4008호': 242831, 'folgdn': 242832, '5861154701020220905': 242833, '작인인용': 242834, 'oersie': 242835, '대주': 242836, '이장7': 242837, '금속공학전공': 242838, '0462': 242839, '장교구': 242840, 'cab012642': 242841, '2008121292': 242842, '184004': 242843, 'yonseld': 242844, '1f40': 242845, '5881': 242846, '2a94': 242847, '10100784': 242848, 'v48446306': 242849, 'yungzhou': 242850, 'iv48446308': 242851, 'v48446312': 242852, 'iv48446317': 242853, 'c0003705': 242854, 'internaignalbe': 242855, 'stuoies': 242856, 'stydies': 242857, 'guxiaoyuan': 242858, 'xiaomu': 242859, '0so': 242860, '0053066': 242861, '3245511782733488': 242862, 'a222': 242863, '3920': 242864, '자동차공학전공': 242865, '0133117': 242866, '이시영': 242867, '201737142': 242868, '3228201015693339': 242869, '0092477호': 242870, '김이삭': 242871, '910709': 242872, '나노과학대학': 242873, '웹주시': 242874, '812130050216': 242875, '신남주': 242876, '8103': 242877, '2020년10월2': 242878, 'd6ae': 242879, 'ac62': 242880, 'cme005522': 242881, 'aba4': 242882, 'a346': 242883, '8f6f': 242884, 'clniversity': 242885, '서울특벨시': 242886, '웹곡동': 242887, '20474': 242888, '2019045350': 242889, '8월22일': 242890, '응용화학생명공학전공': 242891, 'viversi': 242892, '교무처장2': 242893, '학학트': 242894, 'd564': 242895, '69769': 242896, '2e74': 242897, 'd73ba': 242898, '19787': 242899, 'evtiv': 242900, 'feda': 242901, '7248': 242902, '5eoe': 242903, 'cmeo15984': 242904, '조현동': 242905, '2015253050': 242906, '389c': 242907, 'annessee': 242908, 'chukenille': 242909, 'tennesser': 242910, 'trusiees': 242911, 'billlee': 242912, '0012133': 242913, '기독교교육학과': 242914, '1eo': 242915, '3124950188823526': 242916, 'cf37': 242917, '272c': 242918, '1189329': 242919, 'dreamsime': 242920, '일속공0': 242921, '2bf0': 242922, '81d7': 242923, 'i189368': 242924, 'jangsin': 242925, 'angsi': 242926, 'gyeongan': 242927, '효력율': 242928, '천시': 242929, '료무료': 242930, '280209': 242931, '11oz5ae': 242932, '취인': 242933, '작화번호': 242934, '신성호': 242935, '담당인이': 242936, '0326257259': 242937, '24005': 242938, '00277': 242939, 'iv56371463': 242940, 'heil': 242941, 'seple': 242942, '56372352': 242943, '372356': 242944, '서울아신명원으': 242945, '은서입니다': 242946, '복사를': 242947, 'iversiry': 242948, '9db6': 242949, 'c72d': 242950, '58bf': 242951, 'cme014893': 242952, '학위능독': 242953, '진단검사의학교': 242954, 'xf35': 242955, 'lfqp': 242956, 'q21a': 242957, 'qff2': 242958, '499020': 242959, '0079390': 242960, '부경대2018': 242961, '3g41e': 242962, 'lhoh': 242963, 'gi0': 242964, '0d9d': 242965, 'cme015811': 242966, '5761': 242967, '5f03': 242968, 'cmeo15810': 242969, '휴학년': 242970, 'f5f3': 242971, 'fc935': 242972, 'bce1': 242973, '5d71a': 242974, '유채': 242975, '630e': 242976, '1da4': 242977, '5227': 242978, '0100001k2010100001': 242979, '5851154001022120010': 242980, 'burgh': 242981, 'edinbu': 242982, 'dandr': 242983, '7921': 242984, '47de': 242985, '28495': 242986, '020v2': 242987, '글로벌한국하과': 242988, '금로벌한국학': 242989, '한국학사': 242990, '00에4': 242991, '인천광의': 242992, 'f212에182': 242993, '국겨공일': 242994, '인증기관으르부터': 242995, '번적인중을받아': 242996, '중용할급한것입': 242997, '채용은': 242998, '칼라프줬뿔': 242999, '사용함것': 243000, '직않인명': 243001, 'webrinwron': 243002, 'e서': 243003, '율인력하면': 243004, 'q조합': 243005, '028399': 243006, '취업진로팅': 243007, 'd7dc': 243008, 'niversery': 243009, 'cmeo15836': 243010, 'd6af': 243011, '713b': 243012, '171240': 243013, '3834147594523817': 243014, '빨급번호': 243015, '고대보건': 243016, 'a02a': 243017, 'fdo6': 243018, 'c4fc': 243019, 'cme008765': 243020, '0086580': 243021, '980422': 243022, '사회적경제융합대학': 243023, '아동복지학과': 243024, '아동복지학사': 243025, '3329252571633351': 243026, 'hannar': 243027, 'd9b2': 243028, 'ad99': 243029, '713e': 243030, '20204405836': 243031, '9007375': 243032, 'huaiyin': 243033, 'gdn': 243034, '103231201705002764': 243035, 'higheducation': 243036, 'aund': 243037, 'careen': 243038, 'ngdjy': 243039, 'gouy': 243040, 'aras': 243041, 'ragday': 243042, 'gujy': 243043, 'gdiy': 243044, 'esic': 243045, '103231204705002764': 243046, 'shesi': 243047, 'cmb002156': 243048, '권우미': 243049, '0691005': 243050, '153797': 243051, '49d5': 243052, 'e36a': 243053, '보어서는': 243054, '총력을': 243055, '궈장': 243056, '5b6c': 243057, 'c4db': 243058, '2b5a': 243059, '30969': 243060, '명지대02': 243061, '0004131': 243062, '광양보건': 243063, '교무장교교': 243064, '3226191213653175': 243065, '7774': 243066, 'fbd6': 243067, '31062호': 243068, '국민대2009': 243069, '30899': 243070, '85949': 243071, 'd07366': 243072, '0370107': 243073, '류원희': 243074, '경희대2006': 243075, 'coopertian': 243076, '3040939220993171': 243077, 'b2018': 243078, '4944': 243079, '식품영양전공': 243080, '가정전문학사': 243081, '2bff': 243082, '48e2': 243083, '0164812': 243084, '박효진': 243085, '201501447': 243086, 'oughm': 243087, '저울특별지': 243088, '2t14': 243089, 'nuts': 243090, '159690': 243091, 'vgguk': 243092, '조메': 243093, 'k11021554217': 243094, 'hochton': 243095, 'catifornia': 243096, 'palavini': 243097, 'leva': 243098, 'frader': 243099, 'povest': 243100, 'chais': 243101, '0owd': 243102, '8l4m': 243103, 'aypl': 243104, '처교정장리': 243105, '419f': 243106, 'onton': 243107, 'fornign': 243108, '한국1어대학': 243109, '0102191': 243110, 'undersy': 243111, 'sdieshnkuunwersity': 243112, 'foign': 243113, '한국의국어학': 243114, '반국의국에': 243115, '한국금에게학': 243116, '한국의국에대밥교': 243117, '한국화국에학교': 243118, '의국니학교': 243119, '한국외국대': 243120, '국의이': 243121, 'uvesityf': 243122, 'hakukunirsy': 243123, 'foreick': 243124, 'reignstyes': 243125, 'hauknis': 243126, '외국이대': 243127, '서학교': 243128, '한국의이대학': 243129, 'foreid': 243130, '한국의규에': 243131, '어대학3': 243132, 'hanma': 243133, 'stf': 243134, 'haniok': 243135, 'uforeign': 243136, 'torec': 243137, 'fukuniv': 243138, 'ooreig': 243139, '한국외국어대학에': 243140, '인의국에함교': 243141, '한국의어대학': 243142, 'for생': 243143, 'foreigntudiesank': 243144, 'unrsof': 243145, '국의국에고': 243146, 'uversof': 243147, '한국외국어대프': 243148, '한국세어대학교': 243149, 'oforeistud': 243150, '한국의국액민학교': 243151, 'uversety': 243152, 'nkukiversity': 243153, '국의국어대백교': 243154, '한이국어대학교': 243155, '만국국이대학교': 243156, '한국의국어대역': 243157, '품의국어대학교': 243158, '이데학교': 243159, '한국국어대학': 243160, 'o학위등톡번호': 243161, '2017학2849': 243162, '한외국어대': 243163, '국의이대학교': 243164, '국의국대학교': 243165, 'a교': 243166, 'forer': 243167, '한국외국해': 243168, '한국의교에대학교한국의국어대': 243169, '시국어대학교': 243170, 'foresdies': 243171, 'nkukuniversty': 243172, '의국어대판고': 243173, 'gntuds': 243174, 'hankukniversity': 243175, '교국의국에대위매': 243176, 'uversiof': 243177, '한국의국었': 243178, 'fo2018': 243179, 'fonsu': 243180, '만국의': 243181, '이1': 243182, '반국국어대학교': 243183, '만국의국어대학교': 243184, 'hankukuniveray': 243185, 'forestcos': 243186, 'unesmy': 243187, '국국이디학고': 243188, 'hankuunversity': 243189, '인국의국어대학교': 243190, '민국외국어대': 243191, '71dc': 243192, '5e51': 243193, '11cf': 243194, '19081': 243195, '행정학파': 243196, 'nesity': 243197, '원대2018': 243198, '거증명합니다': 243199, 'fration': 243200, 'bineunurnea': 243201, 'dellin': 243202, 'versaillesgrandparc': 243203, 'agglom': 243204, '4cf6': 243205, '2020071933': 243206, '0122423': 243207, '200436140': 243208, '4267': 243209, 'a명서': 243210, '핥영하여': 243211, '영본대조': 243212, '스매트': 243213, '103939': 243214, '3329452476243632': 243215, 'ae91': 243216, 'cmeo15555': 243217, '47634호': 243218, '860b': 243219, '처장품': 243220, 'pkh6': 243221, 'ldh2': 243222, 'ufpk': 243223, '135772': 243224, '유기웅용재료공학과': 243225, '유기웅용재료공학전공': 243226, '유기응용재료공학전문': 243227, '인하대학교교무': 243228, 'cee3': 243229, '8db7': 243230, 'il02643': 243231, '증명시음': 243232, '해낭': 243233, 'eert': 243234, '메뉴rt': 243235, '파인분시번호로': 243236, '원분시를': 243237, '마3m': 243238, '니내용의위': 243239, '받일로': 243240, '가하하니다': 243241, 'n2020123316': 243242, '162865': 243243, '부산대2015학2590': 243244, '4c8d': 243245, 'c36e': 243246, '41a2': 243247, 'cmeo13526': 243248, '독문학': 243249, '07a1': 243250, '5d18': 243251, '0272059': 243252, 'veriteuk': 243253, 'huibo': 243254, '공종처': 243255, 'li07149947': 243256, 'fh0': 243257, 'l107149948': 243258, '0374545': 243259, '최종현': 243260, '정보디스플레이전공': 243261, '정보디스플레이학': 243262, '1언터넷': 243263, '우려': 243264, 's0일이내': 243265, 'r드를': 243266, '3746416721763500': 243267, '<PAD>': 0}\n"
     ]
    }
   ],
   "source": [
    "# 위와 같이 전체 데이터가 인덱스로 구성돼 있을 텐데 각 인덱스가 어떤 단어를 의미하는지 확인할수 있도록 단어 사전 확인\n",
    "word_vocab = tokenizer.word_index\n",
    "word_vocab[\"<PAD>\"] = 0\n",
    "print(word_vocab)"
   ]
  },
  {
   "cell_type": "code",
   "execution_count": 25,
   "metadata": {},
   "outputs": [
    {
     "output_type": "stream",
     "name": "stdout",
     "text": [
      "전체 단어 개수:  243268\n"
     ]
    }
   ],
   "source": [
    "print(\"전체 단어 개수: \", len(word_vocab))"
   ]
  },
  {
   "cell_type": "code",
   "execution_count": 26,
   "metadata": {},
   "outputs": [],
   "source": [
    "# 단어 사전 뿐 아니라 전체 단어 개수도 이후 모델에서 사용되기 때문에 저장해둔다.\n",
    "# 데이터에 대한 정보인 단어 사전과 전체 단어 개수는 새롭게 딕셔너리 값을 지정해서 저장해두자\n",
    "\n",
    "data_configs = {}\n",
    "\n",
    "data_configs['vocab'] = word_vocab\n",
    "data_configs['vocab_size'] = len(word_vocab)"
   ]
  },
  {
   "cell_type": "code",
   "execution_count": 27,
   "metadata": {},
   "outputs": [
    {
     "output_type": "stream",
     "name": "stdout",
     "text": [
      "Shape of train data:  (13574, 336)\n"
     ]
    }
   ],
   "source": [
    "# 마지막 전처리\n",
    "# 현재 각 데이터는 서로 길이가 다른데 이 길이를 하나로 통일해야 이후 모델에 바로 적용할수 있기 때문에\n",
    "# 특정 길이를 최대 길이로 정하고 더 긴 데이터의 경우 뒷부분을 자르고 짧은 데이터의 경우에는 0 값으로 패딩하는 작업을 진행\n",
    "\n",
    "MAX_SEQUENCE_LENGTH = 336  # 문장 최대 길이 -> 단어 개수 통계의 중간값\n",
    "\n",
    "train_inputs = pad_sequences(text_sequences, maxlen=MAX_SEQUENCE_LENGTH, padding='post')\n",
    "\n",
    "print('Shape of train data: ', train_inputs.shape)"
   ]
  },
  {
   "cell_type": "code",
   "execution_count": 28,
   "metadata": {},
   "outputs": [
    {
     "output_type": "stream",
     "name": "stdout",
     "text": [
      "Shape of label tensor: (13574,)\n"
     ]
    }
   ],
   "source": [
    "# 학습시 정답을 나타내는 값을 넘파이 배열로 저장\n",
    "# 넘파이 배열로 변환하는 이유는 이후 전처리한 데이터를 저장할 때 넘파이 형태로 저장하기 때문\n",
    "train_labels = np.array(train_data['label'])\n",
    "print('Shape of label tensor:', train_labels.shape)"
   ]
  },
  {
   "cell_type": "code",
   "execution_count": 41,
   "metadata": {},
   "outputs": [],
   "source": [
    "DATA_IN_PATH = './data_in/'         # 저장할 데이터 경로\n",
    "TRAIN_INPUT_DATA = 'train_input.npy' # 벡터화한 데이터\n",
    "TRAIN_LABEL_DATA = 'train_label.npy' # 정답 라벨\n",
    "TRAIN_CLEAN_DATA = 'train_clean.csv' # 정제된 텍스트 데이터\n",
    "DATA_CONFIGS = 'data_configs.json'   # 데이터 정보(단어 사전, 전체 단어 개수)\n",
    "\n",
    "import os\n",
    "# 저장하는 디렉토리가 존재하지 않으면 생성\n",
    "if not os.path.exists(DATA_IN_PATH):\n",
    "    os.makedirs(DATA_IN_PATH)"
   ]
  },
  {
   "cell_type": "code",
   "execution_count": 42,
   "metadata": {},
   "outputs": [],
   "source": [
    "# 전처리 된 데이터를 넘파이 형태로 저장\n",
    "np.save(open(DATA_IN_PATH + TRAIN_INPUT_DATA, 'wb'), train_inputs)\n",
    "np.save(open(DATA_IN_PATH + TRAIN_LABEL_DATA, 'wb'), train_labels)\n",
    "\n",
    "# 정제된 텍스트를 csv 형태로 저장\n",
    "clean_train_df.to_csv(DATA_IN_PATH + TRAIN_CLEAN_DATA, index = False)\n",
    "\n",
    "\n",
    "# 데이터 사전을 json 형태로 저장\n",
    "json.dump(data_configs, open(DATA_IN_PATH + DATA_CONFIGS, 'w'), ensure_ascii=False)"
   ]
  },
  {
   "cell_type": "code",
   "execution_count": 43,
   "metadata": {},
   "outputs": [
    {
     "output_type": "execute_result",
     "data": {
      "text/plain": [
       "text     0\n",
       "label    0\n",
       "dtype: int64"
      ]
     },
     "metadata": {},
     "execution_count": 43
    }
   ],
   "source": [
    "clean_train_df.isna().sum()"
   ]
  },
  {
   "cell_type": "code",
   "execution_count": 44,
   "metadata": {},
   "outputs": [
    {
     "output_type": "execute_result",
     "data": {
      "text/plain": [
       "'문서 확인번호 xd3c c978 1268 6b5c 성 적 증 명 서 발행번호 12020 021464 번 20141946 성 대 임유정 학 미술대학 생년월일 학과 학부 1996년 1월 26일 조소과 입학일자 졸업 일자 2014년 3월 1일 2019년 2월 21일 졸업 학점 성적 구분 교과목명 학점 성적 구분 교과목명 학점 성적 취득학점 21 평점평균 4 37 구분 교과목명 2014학년도 1학기 사고와 표현 effective english speech c 영상으로 떠나는 베트남 문화기행 전통과 평면 모델링 0 서양 조각사 인체표현 취득학점 17 평점평균 4 15 nnnn www ao b b ao 2016학년도 2학기 b 예술 비즈니스 모델 따라잡기 b 문학과 시대 읽기 c 우리 문화 속의 한자에 e 디지털 조형 2 e 현대조각 2 e 재료기법 2 취득학점 19 평점평균 4 36 000 b b b 2014학년도 2학기 정신인 effective written english b 경제학 개론 c 이슬람문화와 예술 입체와 공간 획과 여백 모델 표현 한국조각사 취득학점 19 평점평균 3 54 3 2 8 2 2018학년도 1학기 c 마음을읽어주는미술치료 c 직무적성검사 분석 e 자유창작1 e 창작세미나 1 취득학점 15 평점평균 4 15 nnnn wwwn p b b b b c b 2018학년도 2학기 e 자유창작 2 e 졸업 작품연구 졸업인증 졸업논문 취득학점 6 평점평균 4 20 4 2 0 0 ao ao p p 2015학년도 1학기 c tv드라마의 세계 컴퓨터와 조형 미술사 1 동시대 조각의 현장 1 인체소조 1 0 석조기법 1 취득학점 17 평점평균 3 72 1000000 b bo bt b 취득학점 132 평점평균 4 07 4 5 백분율 95 09 100 석 차 1 36 성적우수졸업 이 하 여백 2015학년도 2학기 c 스페인 문화와 예술 c 생활 프랑스어 1 c 직무분석 커리어 개발 디지털미디어 1 도조기법 인체소조 2 취득학점 18 평점평균 4 07 332226 b p ao ao 2016학년도 1학기 b 과학기술 사회의 생명윤리 b 현대미술산책 c 카네기 성공전략 e 현대조각 1 e 재료기법 1 e 디지털 조형 1 e 현대조각의 흐름 nnno www ao b 학위명 미술학사 학위등록번호 성신여대 2018 학 1020 위의 사실을 증명합니다 2020년 9월 8일 lg 성신여자대학교 교무체 en 이수구분 공통교양 핵심 교양 b 일반교양 c 핵심전공 0 심화전공 e 성적등급 1995 1 4 5 ao 4 2 4 0 b 3 6 bo 3 3 8 3 0 c 2 6 co 2 3 c 2 0 dh 1 6 1 3 0 1 0 f 0 p pass np pass r retake withdraw 본 증영서는 해당대학 및 웹민원센터 홈페이지 www webm inwon com 에서 원본확인 문서번호를 통해 원본대조가 가능 발급 후 90일간 제출용은 칼라프린터 출력을 권장'"
      ]
     },
     "metadata": {},
     "execution_count": 44
    }
   ],
   "source": [
    "clean_train_df['text'][5000]"
   ]
  },
  {
   "cell_type": "code",
   "execution_count": 45,
   "metadata": {},
   "outputs": [],
   "source": [
    "train_data = pd.read_csv( DATA_IN_PATH + TRAIN_CLEAN_DATA )"
   ]
  },
  {
   "cell_type": "code",
   "execution_count": 46,
   "metadata": {},
   "outputs": [
    {
     "output_type": "execute_result",
     "data": {
      "text/plain": [
       "text     0\n",
       "label    0\n",
       "dtype: int64"
      ]
     },
     "metadata": {},
     "execution_count": 46
    }
   ],
   "source": [
    "train_data.isna().sum()"
   ]
  },
  {
   "cell_type": "code",
   "execution_count": 47,
   "metadata": {},
   "outputs": [
    {
     "output_type": "execute_result",
     "data": {
      "text/plain": [
       "                                                    text  label\n",
       "0      ts toefl ibt test taker score report ets secur...      1\n",
       "1      ets toefl bt test taker score report name moon...      1\n",
       "2      ets toefl ibt test taker score report name bai...      1\n",
       "3      ets toefl ibt test taker score report name jun...      1\n",
       "4      ets toefl ibt test taker score report name par...      1\n",
       "...                                                  ...    ...\n",
       "13569  제 n2020123316 호 졸업증명 서 성 명 김상온 생 년월 일 1985년 10...      1\n",
       "13570  4 docu verification xd6a 4c8d c36e 41a2 2 oniv...      1\n",
       "13571  원본대조번호 07a1 5d18 0719 2159 제 0272059 호 졸 업 증 명...      1\n",
       "13572  0 0 01062044 108631201606000596 ar r e bttp ww...      1\n",
       "13573  제 2020 0374545 호 학위수여증명서 성 명 최종현 생 년 월 일 1987년...      1\n",
       "\n",
       "[13574 rows x 2 columns]"
      ],
      "text/html": "<div>\n<style scoped>\n    .dataframe tbody tr th:only-of-type {\n        vertical-align: middle;\n    }\n\n    .dataframe tbody tr th {\n        vertical-align: top;\n    }\n\n    .dataframe thead th {\n        text-align: right;\n    }\n</style>\n<table border=\"1\" class=\"dataframe\">\n  <thead>\n    <tr style=\"text-align: right;\">\n      <th></th>\n      <th>text</th>\n      <th>label</th>\n    </tr>\n  </thead>\n  <tbody>\n    <tr>\n      <th>0</th>\n      <td>ts toefl ibt test taker score report ets secur...</td>\n      <td>1</td>\n    </tr>\n    <tr>\n      <th>1</th>\n      <td>ets toefl bt test taker score report name moon...</td>\n      <td>1</td>\n    </tr>\n    <tr>\n      <th>2</th>\n      <td>ets toefl ibt test taker score report name bai...</td>\n      <td>1</td>\n    </tr>\n    <tr>\n      <th>3</th>\n      <td>ets toefl ibt test taker score report name jun...</td>\n      <td>1</td>\n    </tr>\n    <tr>\n      <th>4</th>\n      <td>ets toefl ibt test taker score report name par...</td>\n      <td>1</td>\n    </tr>\n    <tr>\n      <th>...</th>\n      <td>...</td>\n      <td>...</td>\n    </tr>\n    <tr>\n      <th>13569</th>\n      <td>제 n2020123316 호 졸업증명 서 성 명 김상온 생 년월 일 1985년 10...</td>\n      <td>1</td>\n    </tr>\n    <tr>\n      <th>13570</th>\n      <td>4 docu verification xd6a 4c8d c36e 41a2 2 oniv...</td>\n      <td>1</td>\n    </tr>\n    <tr>\n      <th>13571</th>\n      <td>원본대조번호 07a1 5d18 0719 2159 제 0272059 호 졸 업 증 명...</td>\n      <td>1</td>\n    </tr>\n    <tr>\n      <th>13572</th>\n      <td>0 0 01062044 108631201606000596 ar r e bttp ww...</td>\n      <td>1</td>\n    </tr>\n    <tr>\n      <th>13573</th>\n      <td>제 2020 0374545 호 학위수여증명서 성 명 최종현 생 년 월 일 1987년...</td>\n      <td>1</td>\n    </tr>\n  </tbody>\n</table>\n<p>13574 rows × 2 columns</p>\n</div>"
     },
     "metadata": {},
     "execution_count": 47
    }
   ],
   "source": [
    "train_data"
   ]
  },
  {
   "cell_type": "code",
   "execution_count": 49,
   "metadata": {},
   "outputs": [],
   "source": [
    "# 테스트 데이터도 동일하게 처리\n",
    "test_data = pd.read_excel(\"gradnet_test_v2.xlsx\")"
   ]
  },
  {
   "cell_type": "code",
   "execution_count": 50,
   "metadata": {},
   "outputs": [],
   "source": [
    "clean_test_texts = []\n",
    "for text in test_data['text']:\n",
    "    clean_test_texts.append(preprocessing(text, remove_stopwords = True))\n",
    "\n",
    "\n",
    "clean_test_df = pd.DataFrame({'text': clean_test_texts, 'id': test_data['id']})\n",
    "test_id = np.array(test_data['id'])\n",
    "\n",
    "text_sequences = tokenizer.texts_to_sequences(clean_test_texts)\n",
    "test_inputs = pad_sequences(text_sequences, maxlen=MAX_SEQUENCE_LENGTH, padding='post')"
   ]
  },
  {
   "cell_type": "code",
   "execution_count": 51,
   "metadata": {},
   "outputs": [
    {
     "output_type": "execute_result",
     "data": {
      "text/plain": [
       "array([5976, 6063, 6195, ..., 3878, 5757, 1511], dtype=int64)"
      ]
     },
     "metadata": {},
     "execution_count": 51
    }
   ],
   "source": [
    "test_id"
   ]
  },
  {
   "cell_type": "code",
   "execution_count": 52,
   "metadata": {},
   "outputs": [],
   "source": [
    "TEST_INPUT_DATA = 'test_input.npy'\n",
    "TEST_CLEAN_DATA = 'test_clean.csv'\n",
    "TEST_ID_DATA = 'test_id.npy'\n",
    "\n",
    "np.save(open(DATA_IN_PATH + TEST_INPUT_DATA, 'wb'), test_inputs)\n",
    "np.save(open(DATA_IN_PATH + TEST_ID_DATA, 'wb'), test_id)\n",
    "clean_test_df.to_csv(DATA_IN_PATH + TEST_CLEAN_DATA, index = False)"
   ]
  },
  {
   "cell_type": "code",
   "execution_count": 53,
   "metadata": {},
   "outputs": [
    {
     "output_type": "execute_result",
     "data": {
      "text/plain": [
       "text    0\n",
       "id      0\n",
       "dtype: int64"
      ]
     },
     "metadata": {},
     "execution_count": 53
    }
   ],
   "source": [
    "clean_test_df.isna().sum()"
   ]
  },
  {
   "cell_type": "code",
   "execution_count": 54,
   "metadata": {},
   "outputs": [],
   "source": [
    "test_data = pd.read_csv( DATA_IN_PATH + TEST_CLEAN_DATA )"
   ]
  },
  {
   "cell_type": "code",
   "execution_count": 55,
   "metadata": {},
   "outputs": [
    {
     "output_type": "execute_result",
     "data": {
      "text/plain": [
       "text    0\n",
       "id      0\n",
       "dtype: int64"
      ]
     },
     "metadata": {},
     "execution_count": 55
    }
   ],
   "source": [
    "test_data.isna().sum()"
   ]
  },
  {
   "cell_type": "code",
   "execution_count": 56,
   "metadata": {},
   "outputs": [
    {
     "output_type": "execute_result",
     "data": {
      "text/plain": [
       "0       ets toefl ibt toefl bt test taker score report...\n",
       "1       ets toefl ibt test taker score report name lim...\n",
       "2       ets toefl bt toefl bt test taker score report ...\n",
       "3       ets toefl ibt test taker score report name jo ...\n",
       "4       ets toefl ibt test taker score report name cha...\n",
       "                              ...                        \n",
       "3390    문서확인번호 xdcf 3794 f122 cbd6 교 학 1885 대 학위수 여증 명...\n",
       "3391    californa university southern california trust...\n",
       "3392    문서확인번호 xd85 c828 225a 5c89 서울여대중 제 2020 25922 ...\n",
       "3393    문서확인번호 xdie 26c4 d928 5ef8 미 제 0100002k2011040...\n",
       "3394    문서확인번호 xdfe 787d b60d 50b0 universin 1885 세 대 ...\n",
       "Name: text, Length: 3395, dtype: object"
      ]
     },
     "metadata": {},
     "execution_count": 56
    }
   ],
   "source": [
    "test_data['text']"
   ]
  },
  {
   "cell_type": "code",
   "execution_count": null,
   "metadata": {},
   "outputs": [],
   "source": []
  },
  {
   "cell_type": "code",
   "execution_count": null,
   "metadata": {},
   "outputs": [],
   "source": []
  },
  {
   "cell_type": "code",
   "execution_count": null,
   "metadata": {},
   "outputs": [],
   "source": []
  },
  {
   "cell_type": "code",
   "execution_count": null,
   "metadata": {},
   "outputs": [],
   "source": []
  },
  {
   "cell_type": "markdown",
   "metadata": {},
   "source": [
    "# 모델 학습 및 테스트_Linear Regression with TF-IDF"
   ]
  },
  {
   "cell_type": "code",
   "execution_count": 76,
   "metadata": {},
   "outputs": [],
   "source": [
    "import os\n",
    "\n",
    "import pandas as pd\n",
    "import numpy as np\n",
    "\n",
    "from sklearn.feature_extraction.text import TfidfVectorizer\n",
    "from sklearn.model_selection import train_test_split\n",
    "from sklearn.linear_model import LogisticRegression"
   ]
  },
  {
   "cell_type": "code",
   "execution_count": 77,
   "metadata": {},
   "outputs": [],
   "source": [
    "DATA_IN_PATH = './data_in/' \n",
    "DATA_OUT_PATH = './data_out/'\n",
    "TRAIN_CLEAN_DATA = 'train_clean.csv'\n",
    "\n",
    "RANDOM_SEED = 42\n",
    "TEST_SPLIT = 0.2"
   ]
  },
  {
   "cell_type": "code",
   "execution_count": 78,
   "metadata": {},
   "outputs": [],
   "source": [
    "train_data = pd.read_csv( DATA_IN_PATH + TRAIN_CLEAN_DATA )"
   ]
  },
  {
   "cell_type": "code",
   "execution_count": 79,
   "metadata": {},
   "outputs": [
    {
     "output_type": "execute_result",
     "data": {
      "text/plain": [
       "text     0\n",
       "label    0\n",
       "dtype: int64"
      ]
     },
     "metadata": {},
     "execution_count": 79
    }
   ],
   "source": [
    "train_data.isna().sum()"
   ]
  },
  {
   "cell_type": "code",
   "execution_count": 80,
   "metadata": {},
   "outputs": [],
   "source": [
    "train_data = train_data.dropna()  # 결측값 제거 안하면 다다음 코드에서 에러 발생"
   ]
  },
  {
   "cell_type": "code",
   "execution_count": 81,
   "metadata": {},
   "outputs": [],
   "source": [
    "text = list(train_data['text'])\n",
    "label = list(train_data['label'])"
   ]
  },
  {
   "cell_type": "code",
   "execution_count": 82,
   "metadata": {},
   "outputs": [],
   "source": [
    "vectorizer = TfidfVectorizer(min_df = 0.0, analyzer=\"char\", sublinear_tf=True, ngram_range=(1,3), max_features=5000) \n",
    "\n",
    "X = vectorizer.fit_transform(text)\n",
    "y = np.array(label)"
   ]
  },
  {
   "cell_type": "code",
   "execution_count": 83,
   "metadata": {},
   "outputs": [
    {
     "output_type": "execute_result",
     "data": {
      "text/plain": [
       "<13574x5000 sparse matrix of type '<class 'numpy.float64'>'\n",
       "\twith 14320761 stored elements in Compressed Sparse Row format>"
      ]
     },
     "metadata": {},
     "execution_count": 83
    }
   ],
   "source": [
    "X"
   ]
  },
  {
   "cell_type": "code",
   "execution_count": 84,
   "metadata": {},
   "outputs": [],
   "source": [
    "features = vectorizer.get_feature_names()"
   ]
  },
  {
   "cell_type": "code",
   "execution_count": 85,
   "metadata": {},
   "outputs": [],
   "source": [
    "X_train, X_eval, y_train, y_eval = train_test_split(X, y, test_size=TEST_SPLIT, random_state=RANDOM_SEED)"
   ]
  },
  {
   "cell_type": "code",
   "execution_count": 86,
   "metadata": {},
   "outputs": [
    {
     "output_type": "execute_result",
     "data": {
      "text/plain": [
       "LogisticRegression(class_weight='balanced')"
      ]
     },
     "metadata": {},
     "execution_count": 86
    }
   ],
   "source": [
    "lgs = LogisticRegression(class_weight='balanced') \n",
    "lgs.fit(X_train, y_train)"
   ]
  },
  {
   "cell_type": "code",
   "execution_count": 87,
   "metadata": {},
   "outputs": [],
   "source": [
    "predicted = lgs.predict(X_eval)"
   ]
  },
  {
   "cell_type": "code",
   "execution_count": 88,
   "metadata": {},
   "outputs": [
    {
     "output_type": "stream",
     "name": "stdout",
     "text": [
      "Accuracy: 0.999632\n"
     ]
    }
   ],
   "source": [
    "print(\"Accuracy: %f\" % lgs.score(X_eval, y_eval))"
   ]
  },
  {
   "cell_type": "code",
   "execution_count": 89,
   "metadata": {},
   "outputs": [],
   "source": [
    "TEST_CLEAN_DATA = 'test_clean.csv'\n",
    "\n",
    "test_data = pd.read_csv(DATA_IN_PATH + TEST_CLEAN_DATA)"
   ]
  },
  {
   "cell_type": "code",
   "execution_count": 90,
   "metadata": {},
   "outputs": [],
   "source": [
    "test_data = test_data.dropna()"
   ]
  },
  {
   "cell_type": "code",
   "execution_count": 91,
   "metadata": {},
   "outputs": [
    {
     "output_type": "execute_result",
     "data": {
      "text/plain": [
       "                                                   text    id\n",
       "0     ets toefl ibt toefl bt test taker score report...  5976\n",
       "1     ets toefl ibt test taker score report name lim...  6063\n",
       "2     ets toefl bt toefl bt test taker score report ...  6195\n",
       "3     ets toefl ibt test taker score report name jo ...  6238\n",
       "4     ets toefl ibt test taker score report name cha...  6123\n",
       "...                                                 ...   ...\n",
       "3390  문서확인번호 xdcf 3794 f122 cbd6 교 학 1885 대 학위수 여증 명...  4233\n",
       "3391  californa university southern california trust...  2815\n",
       "3392  문서확인번호 xd85 c828 225a 5c89 서울여대중 제 2020 25922 ...  3878\n",
       "3393  문서확인번호 xdie 26c4 d928 5ef8 미 제 0100002k2011040...  5757\n",
       "3394  문서확인번호 xdfe 787d b60d 50b0 universin 1885 세 대 ...  1511\n",
       "\n",
       "[3395 rows x 2 columns]"
      ],
      "text/html": "<div>\n<style scoped>\n    .dataframe tbody tr th:only-of-type {\n        vertical-align: middle;\n    }\n\n    .dataframe tbody tr th {\n        vertical-align: top;\n    }\n\n    .dataframe thead th {\n        text-align: right;\n    }\n</style>\n<table border=\"1\" class=\"dataframe\">\n  <thead>\n    <tr style=\"text-align: right;\">\n      <th></th>\n      <th>text</th>\n      <th>id</th>\n    </tr>\n  </thead>\n  <tbody>\n    <tr>\n      <th>0</th>\n      <td>ets toefl ibt toefl bt test taker score report...</td>\n      <td>5976</td>\n    </tr>\n    <tr>\n      <th>1</th>\n      <td>ets toefl ibt test taker score report name lim...</td>\n      <td>6063</td>\n    </tr>\n    <tr>\n      <th>2</th>\n      <td>ets toefl bt toefl bt test taker score report ...</td>\n      <td>6195</td>\n    </tr>\n    <tr>\n      <th>3</th>\n      <td>ets toefl ibt test taker score report name jo ...</td>\n      <td>6238</td>\n    </tr>\n    <tr>\n      <th>4</th>\n      <td>ets toefl ibt test taker score report name cha...</td>\n      <td>6123</td>\n    </tr>\n    <tr>\n      <th>...</th>\n      <td>...</td>\n      <td>...</td>\n    </tr>\n    <tr>\n      <th>3390</th>\n      <td>문서확인번호 xdcf 3794 f122 cbd6 교 학 1885 대 학위수 여증 명...</td>\n      <td>4233</td>\n    </tr>\n    <tr>\n      <th>3391</th>\n      <td>californa university southern california trust...</td>\n      <td>2815</td>\n    </tr>\n    <tr>\n      <th>3392</th>\n      <td>문서확인번호 xd85 c828 225a 5c89 서울여대중 제 2020 25922 ...</td>\n      <td>3878</td>\n    </tr>\n    <tr>\n      <th>3393</th>\n      <td>문서확인번호 xdie 26c4 d928 5ef8 미 제 0100002k2011040...</td>\n      <td>5757</td>\n    </tr>\n    <tr>\n      <th>3394</th>\n      <td>문서확인번호 xdfe 787d b60d 50b0 universin 1885 세 대 ...</td>\n      <td>1511</td>\n    </tr>\n  </tbody>\n</table>\n<p>3395 rows × 2 columns</p>\n</div>"
     },
     "metadata": {},
     "execution_count": 91
    }
   ],
   "source": [
    "test_data"
   ]
  },
  {
   "cell_type": "code",
   "execution_count": 92,
   "metadata": {},
   "outputs": [],
   "source": [
    "testDataVecs = vectorizer.transform(test_data['text'])"
   ]
  },
  {
   "cell_type": "code",
   "execution_count": 93,
   "metadata": {},
   "outputs": [
    {
     "output_type": "stream",
     "name": "stdout",
     "text": [
      "[1 1 1 ... 1 1 1]\n"
     ]
    }
   ],
   "source": [
    "test_predicted = lgs.predict(testDataVecs)\n",
    "print(test_predicted)"
   ]
  },
  {
   "cell_type": "code",
   "execution_count": 94,
   "metadata": {},
   "outputs": [],
   "source": [
    "if not os.path.exists(DATA_OUT_PATH):\n",
    "    os.makedirs(DATA_OUT_PATH)\n",
    "\n",
    "answer_dataset = pd.DataFrame({'label': test_predicted})\n",
    "answer_dataset.to_csv(DATA_OUT_PATH + 'tfidf_toeic.csv', index=False, quoting=3)"
   ]
  },
  {
   "cell_type": "code",
   "execution_count": null,
   "metadata": {},
   "outputs": [],
   "source": []
  },
  {
   "cell_type": "code",
   "execution_count": null,
   "metadata": {},
   "outputs": [],
   "source": []
  },
  {
   "cell_type": "code",
   "execution_count": null,
   "metadata": {},
   "outputs": [],
   "source": []
  },
  {
   "cell_type": "markdown",
   "metadata": {},
   "source": [
    "# 모델 학습 및 테스트_Random Forest"
   ]
  },
  {
   "cell_type": "code",
   "execution_count": 95,
   "metadata": {},
   "outputs": [],
   "source": [
    "import pandas as pd\n",
    "import numpy as np\n",
    "import os\n",
    "from sklearn.feature_extraction.text import CountVectorizer"
   ]
  },
  {
   "cell_type": "code",
   "execution_count": 96,
   "metadata": {},
   "outputs": [],
   "source": [
    "DATA_IN_PATH = './data_in/'\n",
    "DATA_OUT_PATH = './data_out/'\n",
    "TRAIN_CLEAN_DATA = 'train_clean.csv'\n",
    "TEST_SIZE = 0.2\n",
    "RANDOM_SEED = 42"
   ]
  },
  {
   "cell_type": "code",
   "execution_count": 97,
   "metadata": {},
   "outputs": [],
   "source": [
    "train_data = pd.read_csv(DATA_IN_PATH + TRAIN_CLEAN_DATA)"
   ]
  },
  {
   "cell_type": "code",
   "execution_count": 98,
   "metadata": {
    "scrolled": true
   },
   "outputs": [
    {
     "output_type": "execute_result",
     "data": {
      "text/plain": [
       "                                                    text  label\n",
       "0      ts toefl ibt test taker score report ets secur...      1\n",
       "1      ets toefl bt test taker score report name moon...      1\n",
       "2      ets toefl ibt test taker score report name bai...      1\n",
       "3      ets toefl ibt test taker score report name jun...      1\n",
       "4      ets toefl ibt test taker score report name par...      1\n",
       "...                                                  ...    ...\n",
       "13569  제 n2020123316 호 졸업증명 서 성 명 김상온 생 년월 일 1985년 10...      1\n",
       "13570  4 docu verification xd6a 4c8d c36e 41a2 2 oniv...      1\n",
       "13571  원본대조번호 07a1 5d18 0719 2159 제 0272059 호 졸 업 증 명...      1\n",
       "13572  0 0 01062044 108631201606000596 ar r e bttp ww...      1\n",
       "13573  제 2020 0374545 호 학위수여증명서 성 명 최종현 생 년 월 일 1987년...      1\n",
       "\n",
       "[13574 rows x 2 columns]"
      ],
      "text/html": "<div>\n<style scoped>\n    .dataframe tbody tr th:only-of-type {\n        vertical-align: middle;\n    }\n\n    .dataframe tbody tr th {\n        vertical-align: top;\n    }\n\n    .dataframe thead th {\n        text-align: right;\n    }\n</style>\n<table border=\"1\" class=\"dataframe\">\n  <thead>\n    <tr style=\"text-align: right;\">\n      <th></th>\n      <th>text</th>\n      <th>label</th>\n    </tr>\n  </thead>\n  <tbody>\n    <tr>\n      <th>0</th>\n      <td>ts toefl ibt test taker score report ets secur...</td>\n      <td>1</td>\n    </tr>\n    <tr>\n      <th>1</th>\n      <td>ets toefl bt test taker score report name moon...</td>\n      <td>1</td>\n    </tr>\n    <tr>\n      <th>2</th>\n      <td>ets toefl ibt test taker score report name bai...</td>\n      <td>1</td>\n    </tr>\n    <tr>\n      <th>3</th>\n      <td>ets toefl ibt test taker score report name jun...</td>\n      <td>1</td>\n    </tr>\n    <tr>\n      <th>4</th>\n      <td>ets toefl ibt test taker score report name par...</td>\n      <td>1</td>\n    </tr>\n    <tr>\n      <th>...</th>\n      <td>...</td>\n      <td>...</td>\n    </tr>\n    <tr>\n      <th>13569</th>\n      <td>제 n2020123316 호 졸업증명 서 성 명 김상온 생 년월 일 1985년 10...</td>\n      <td>1</td>\n    </tr>\n    <tr>\n      <th>13570</th>\n      <td>4 docu verification xd6a 4c8d c36e 41a2 2 oniv...</td>\n      <td>1</td>\n    </tr>\n    <tr>\n      <th>13571</th>\n      <td>원본대조번호 07a1 5d18 0719 2159 제 0272059 호 졸 업 증 명...</td>\n      <td>1</td>\n    </tr>\n    <tr>\n      <th>13572</th>\n      <td>0 0 01062044 108631201606000596 ar r e bttp ww...</td>\n      <td>1</td>\n    </tr>\n    <tr>\n      <th>13573</th>\n      <td>제 2020 0374545 호 학위수여증명서 성 명 최종현 생 년 월 일 1987년...</td>\n      <td>1</td>\n    </tr>\n  </tbody>\n</table>\n<p>13574 rows × 2 columns</p>\n</div>"
     },
     "metadata": {},
     "execution_count": 98
    }
   ],
   "source": [
    "# 결측값 제거를 위해 판다스 데이터프레임으로 변환\n",
    "train_data1 = pd.DataFrame(train_data)\n",
    "train_data1"
   ]
  },
  {
   "cell_type": "code",
   "execution_count": 99,
   "metadata": {},
   "outputs": [],
   "source": [
    "# 결측값 제거\n",
    "train_data = train_data1.dropna()"
   ]
  },
  {
   "cell_type": "code",
   "execution_count": 100,
   "metadata": {},
   "outputs": [],
   "source": [
    "texts = list(train_data['text'])\n",
    "y = np.array(train_data['label'])"
   ]
  },
  {
   "cell_type": "code",
   "execution_count": 101,
   "metadata": {},
   "outputs": [],
   "source": [
    "vectorizer = CountVectorizer(analyzer = \"word\", max_features = 5000) \n",
    "\n",
    "train_data_features = vectorizer.fit_transform(texts)"
   ]
  },
  {
   "cell_type": "code",
   "execution_count": 102,
   "metadata": {},
   "outputs": [],
   "source": [
    "from sklearn.model_selection import train_test_split"
   ]
  },
  {
   "cell_type": "code",
   "execution_count": 103,
   "metadata": {},
   "outputs": [],
   "source": [
    "train_input, eval_input, train_label, eval_label = train_test_split(train_data_features, y, test_size=TEST_SIZE, random_state=RANDOM_SEED)"
   ]
  },
  {
   "cell_type": "code",
   "execution_count": 104,
   "metadata": {},
   "outputs": [
    {
     "output_type": "execute_result",
     "data": {
      "text/plain": [
       "RandomForestClassifier()"
      ]
     },
     "metadata": {},
     "execution_count": 104
    }
   ],
   "source": [
    "from sklearn.ensemble import RandomForestClassifier\n",
    "\n",
    "\n",
    "# 랜덤 포레스트 분류기에  100개 의사 결정 트리를 사용한다.\n",
    "forest = RandomForestClassifier(n_estimators = 100) \n",
    "\n",
    "# 단어 묶음을 벡터화한 데이터와 정답 데이터를 가지고 학습을 시작한다.\n",
    "forest.fit( train_input, train_label )"
   ]
  },
  {
   "cell_type": "code",
   "execution_count": 105,
   "metadata": {},
   "outputs": [
    {
     "output_type": "stream",
     "name": "stdout",
     "text": [
      "Accuracy: 0.999632\n"
     ]
    }
   ],
   "source": [
    "print(\"Accuracy: %f\" % forest.score(eval_input, eval_label))  # 검증함수로 정확도 측정"
   ]
  },
  {
   "cell_type": "code",
   "execution_count": 106,
   "metadata": {},
   "outputs": [
    {
     "output_type": "execute_result",
     "data": {
      "text/plain": [
       "                                                   text    id\n",
       "0     ets toefl ibt toefl bt test taker score report...  5976\n",
       "1     ets toefl ibt test taker score report name lim...  6063\n",
       "2     ets toefl bt toefl bt test taker score report ...  6195\n",
       "3     ets toefl ibt test taker score report name jo ...  6238\n",
       "4     ets toefl ibt test taker score report name cha...  6123\n",
       "...                                                 ...   ...\n",
       "3390  문서확인번호 xdcf 3794 f122 cbd6 교 학 1885 대 학위수 여증 명...  4233\n",
       "3391  californa university southern california trust...  2815\n",
       "3392  문서확인번호 xd85 c828 225a 5c89 서울여대중 제 2020 25922 ...  3878\n",
       "3393  문서확인번호 xdie 26c4 d928 5ef8 미 제 0100002k2011040...  5757\n",
       "3394  문서확인번호 xdfe 787d b60d 50b0 universin 1885 세 대 ...  1511\n",
       "\n",
       "[3395 rows x 2 columns]"
      ],
      "text/html": "<div>\n<style scoped>\n    .dataframe tbody tr th:only-of-type {\n        vertical-align: middle;\n    }\n\n    .dataframe tbody tr th {\n        vertical-align: top;\n    }\n\n    .dataframe thead th {\n        text-align: right;\n    }\n</style>\n<table border=\"1\" class=\"dataframe\">\n  <thead>\n    <tr style=\"text-align: right;\">\n      <th></th>\n      <th>text</th>\n      <th>id</th>\n    </tr>\n  </thead>\n  <tbody>\n    <tr>\n      <th>0</th>\n      <td>ets toefl ibt toefl bt test taker score report...</td>\n      <td>5976</td>\n    </tr>\n    <tr>\n      <th>1</th>\n      <td>ets toefl ibt test taker score report name lim...</td>\n      <td>6063</td>\n    </tr>\n    <tr>\n      <th>2</th>\n      <td>ets toefl bt toefl bt test taker score report ...</td>\n      <td>6195</td>\n    </tr>\n    <tr>\n      <th>3</th>\n      <td>ets toefl ibt test taker score report name jo ...</td>\n      <td>6238</td>\n    </tr>\n    <tr>\n      <th>4</th>\n      <td>ets toefl ibt test taker score report name cha...</td>\n      <td>6123</td>\n    </tr>\n    <tr>\n      <th>...</th>\n      <td>...</td>\n      <td>...</td>\n    </tr>\n    <tr>\n      <th>3390</th>\n      <td>문서확인번호 xdcf 3794 f122 cbd6 교 학 1885 대 학위수 여증 명...</td>\n      <td>4233</td>\n    </tr>\n    <tr>\n      <th>3391</th>\n      <td>californa university southern california trust...</td>\n      <td>2815</td>\n    </tr>\n    <tr>\n      <th>3392</th>\n      <td>문서확인번호 xd85 c828 225a 5c89 서울여대중 제 2020 25922 ...</td>\n      <td>3878</td>\n    </tr>\n    <tr>\n      <th>3393</th>\n      <td>문서확인번호 xdie 26c4 d928 5ef8 미 제 0100002k2011040...</td>\n      <td>5757</td>\n    </tr>\n    <tr>\n      <th>3394</th>\n      <td>문서확인번호 xdfe 787d b60d 50b0 universin 1885 세 대 ...</td>\n      <td>1511</td>\n    </tr>\n  </tbody>\n</table>\n<p>3395 rows × 2 columns</p>\n</div>"
     },
     "metadata": {},
     "execution_count": 106
    }
   ],
   "source": [
    "TEST_CLEAN_DATA = 'test_clean.csv'\n",
    "\n",
    "test_data = pd.read_csv(DATA_IN_PATH + TEST_CLEAN_DATA)\n",
    "test_data"
   ]
  },
  {
   "cell_type": "code",
   "execution_count": 107,
   "metadata": {},
   "outputs": [],
   "source": [
    "test_data = test_data.dropna()"
   ]
  },
  {
   "cell_type": "code",
   "execution_count": 108,
   "metadata": {},
   "outputs": [],
   "source": [
    "test_text = list(test_data['text'])\n",
    "ids = list(test_data['id'])"
   ]
  },
  {
   "cell_type": "code",
   "execution_count": 109,
   "metadata": {},
   "outputs": [],
   "source": [
    "test_data_features = vectorizer.transform(test_text)"
   ]
  },
  {
   "cell_type": "code",
   "execution_count": 110,
   "metadata": {},
   "outputs": [],
   "source": [
    "if not os.path.exists(DATA_OUT_PATH):\n",
    "    os.makedirs(DATA_OUT_PATH)\n",
    "    \n",
    "# 위에서 만든 랜덤 포레스트 분류기를 통해 예측값을 가져온다.\n",
    "result = forest.predict(test_data_features)\n",
    "\n",
    "# 판다스 데이터 프레임을 통해 데이터를 구성해서 output에 넣는다.\n",
    "output = pd.DataFrame( data={\"label\": result} )\n",
    "\n",
    "# 이제 csv파일로 만든다.\n",
    "output.to_csv( DATA_OUT_PATH + \"bag_toeic.csv\", index=False, quoting=3 )"
   ]
  },
  {
   "cell_type": "code",
   "execution_count": null,
   "metadata": {},
   "outputs": [],
   "source": []
  },
  {
   "cell_type": "code",
   "execution_count": null,
   "metadata": {},
   "outputs": [],
   "source": []
  },
  {
   "cell_type": "code",
   "execution_count": null,
   "metadata": {},
   "outputs": [],
   "source": []
  },
  {
   "cell_type": "code",
   "execution_count": null,
   "metadata": {},
   "outputs": [],
   "source": []
  }
 ],
 "metadata": {
  "kernelspec": {
   "name": "python385jvsc74a57bd0f985c082aef62e50a0c60a916fd7f9d526f15ae4e9865185edf7e95209f0117a",
   "display_name": "Python 3.8.5 64-bit (conda)"
  },
  "language_info": {
   "codemirror_mode": {
    "name": "ipython",
    "version": 3
   },
   "file_extension": ".py",
   "mimetype": "text/x-python",
   "name": "python",
   "nbconvert_exporter": "python",
   "pygments_lexer": "ipython3",
   "version": "3.8.5-final"
  }
 },
 "nbformat": 4,
 "nbformat_minor": 2
}